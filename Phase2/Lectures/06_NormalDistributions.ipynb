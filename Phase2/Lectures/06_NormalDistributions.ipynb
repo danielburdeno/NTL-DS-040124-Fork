{
 "cells": [
  {
   "cell_type": "markdown",
   "metadata": {
    "heading_collapsed": true
   },
   "source": [
    "# Objectives"
   ]
  },
  {
   "cell_type": "markdown",
   "metadata": {
    "hidden": true
   },
   "source": [
    "* Describe the normal distribution's Empirical Rule\n",
    "* Calculate $z$-scores from a normal distribution through standardization\n",
    "* Define the Central Limit Theorem\n"
   ]
  },
  {
   "cell_type": "code",
   "execution_count": 1,
   "metadata": {
    "hidden": true
   },
   "outputs": [],
   "source": [
    "# Imports!\n",
    "from scipy import stats\n",
    "\n",
    "import matplotlib.pyplot as plt\n",
    "%matplotlib inline\n",
    "import seaborn as sns\n",
    "\n",
    "import pandas as pd\n",
    "import numpy as np"
   ]
  },
  {
   "cell_type": "markdown",
   "metadata": {
    "heading_collapsed": true
   },
   "source": [
    "# Normal Distribution"
   ]
  },
  {
   "cell_type": "markdown",
   "metadata": {
    "hidden": true
   },
   "source": [
    "We'll find that the **normal distribution** or **normal curve** or **bell curve** (it has many names) is a very common distribution and it's very useful to us in statistics."
   ]
  },
  {
   "cell_type": "markdown",
   "metadata": {
    "hidden": true
   },
   "source": [
    "![](images/normal_curve_animation.gif)"
   ]
  },
  {
   "cell_type": "markdown",
   "metadata": {
    "heading_collapsed": true,
    "hidden": true
   },
   "source": [
    "## Why a Normal Distribution?"
   ]
  },
  {
   "cell_type": "markdown",
   "metadata": {
    "hidden": true
   },
   "source": [
    "Turns out the normal distribution describes many phenomena. Think of anything that has a typical range:\n",
    "\n",
    "- human body temperatures\n",
    "- sizes of elephants\n",
    "- sizes of stars\n",
    "- populations of cities\n",
    "- IQ\n",
    "- heart rate"
   ]
  },
  {
   "cell_type": "markdown",
   "metadata": {
    "hidden": true
   },
   "source": [
    "Among human beings, 98.6 degrees Fahrenheit is an _average_ body temperature. Many folks' temperatures won't measure _exactly_ 98.6 degrees, but most measurements will be _close_. It is much more common to have a body temperature close to 98.6 (whether slightly more or slightly less) than it is to have a body temperature far from 98.6 (whether significantly more or significantly less). This is a hallmark of a normally distributed variable."
   ]
  },
  {
   "cell_type": "code",
   "execution_count": 2,
   "metadata": {
    "hidden": true
   },
   "outputs": [
    {
     "data": {
      "image/png": "[encoded data removed]",
      "text/plain": [
       "<Figure size 432x288 with 1 Axes>"
      ]
     },
     "metadata": {
      "needs_background": "light"
     },
     "output_type": "display_data"
    }
   ],
   "source": [
    "# Visualize it\n",
    "fig, ax = plt.subplots()\n",
    "\n",
    "mu = 0\n",
    "sigma = 1\n",
    "# This defines the points along the x-axis\n",
    "x = np.linspace(\n",
    "        stats.norm(mu,sigma).ppf(0.01), # Start plotting here\n",
    "        stats.norm(mu,sigma).ppf(0.99), # End plotting here\n",
    "        100                             # Number of points\n",
    ")\n",
    "# The values as at x given by the normal curve (with mu & sigma)\n",
    "y = stats.norm(mu,sigma).pdf(x)\n",
    "ax.plot(x, y,'r-');"
   ]
  },
  {
   "cell_type": "markdown",
   "metadata": {},
   "source": [
    "The Standard Normal Distribution, also known as a Gaussian distribution, is special not only because it shows up EVERYWHERE but also because it's symmetric (mean == median == mode)"
   ]
  },
  {
   "cell_type": "markdown",
   "metadata": {
    "hidden": true
   },
   "source": [
    "### Normal Curve\n",
    "\n",
    "If you're curious about how we can mathematically define a normal curve, we give this below. (Don't worry, you don't need to recall the mathematical definition).\n",
    "\n",
    "<details>\n",
    "\n",
    "$\\Large f(x) = \\frac{1}{\\sqrt{2\\pi\\sigma^2}}e^{\\frac{-(x - \\mu)^2}{2\\sigma^2}}$\n",
    "    \n",
    "This might look complicated at first, but it means that the we describe a normal curve with just **two parameters**: $\\sigma^2$ (the variance) & $\\mu$ (the mean). You may see the notation $N(\\mu, \\sigma^2)$ which emphasizes there are only two parameters to describe the distribution.\n",
    "</details>"
   ]
  },
  {
   "cell_type": "code",
   "execution_count": 3,
   "metadata": {},
   "outputs": [
    {
     "data": {
      "text/plain": [
       "<scipy.stats._distn_infrastructure.rv_frozen at 0x7f77f0089130>"
      ]
     },
     "execution_count": 3,
     "metadata": {},
     "output_type": "execute_result"
    }
   ],
   "source": [
    "stats.norm(loc=0, scale=1)"
   ]
  },
  {
   "cell_type": "markdown",
   "metadata": {
    "hidden": true
   },
   "source": [
    "\n"
   ]
  },
  {
   "cell_type": "markdown",
   "metadata": {
    "heading_collapsed": true,
    "hidden": true
   },
   "source": [
    "## *Standard* Normal Distribution"
   ]
  },
  {
   "cell_type": "markdown",
   "metadata": {
    "hidden": true
   },
   "source": [
    "A special normal distribution called the **standard normal distribution** has a mean of 0 and variance of 1. This is also known as a **z distribution**."
   ]
  },
  {
   "cell_type": "markdown",
   "metadata": {
    "hidden": true
   },
   "source": [
    "Since we know that the shape of a normal distribution changes based on its mean and variance, we'll typically convert or **standardize** our normal distribution to the standard normal distribution."
   ]
  },
  {
   "cell_type": "markdown",
   "metadata": {
    "hidden": true
   },
   "source": [
    "We simply subtract the mean $\\mu$ from each value and then divide by the standard deviation $\\sigma$:\n",
    "\n",
    "$$\\frac{x - \\mu}{\\sigma}$$\n",
    "\n",
    "We call this process **standardization**."
   ]
  },
  {
   "cell_type": "markdown",
   "metadata": {
    "hidden": true
   },
   "source": [
    "![norm_to_z](images/norm_to_z.png)"
   ]
  },
  {
   "cell_type": "code",
   "execution_count": 7,
   "metadata": {
    "hidden": true,
    "scrolled": false
   },
   "outputs": [
    {
     "data": {
      "text/plain": [
       "4.911812423426732"
      ]
     },
     "execution_count": 7,
     "metadata": {},
     "output_type": "execute_result"
    }
   ],
   "source": [
    "# Let's transform the normal distribution centered on 5\n",
    "# with a standard deviation of 2 into a standard normal\n",
    "\n",
    "# Generating our data\n",
    "# stats.norm.rvs()\n",
    "normal_dist = np.random.normal(loc=5, scale=2, size=1000)\n",
    "\n",
    "np.mean(normal_dist)"
   ]
  },
  {
   "cell_type": "code",
   "execution_count": 8,
   "metadata": {},
   "outputs": [
    {
     "data": {
      "text/plain": [
       "array([ 6.43448897,  6.24479019,  4.97308886,  5.3982482 ,  3.42856519,\n",
       "        4.10795674,  4.3787456 ,  2.98769789,  4.23281809,  3.18215993,\n",
       "        3.50643126,  3.98575432,  2.49300819,  6.6127456 ,  4.09460388,\n",
       "        4.6299974 ,  4.81546482,  2.70116098,  5.18001069, 10.34736906,\n",
       "        7.65528038,  2.45767361,  1.68701206,  3.00898907,  3.01854384,\n",
       "        5.2089757 ,  9.96865108,  5.57729457,  5.90919795,  5.47699323,\n",
       "        7.3826707 ,  4.7351071 , 10.13908427,  4.11708981,  5.44100312,\n",
       "        5.7675075 ,  1.50866987,  4.04078889,  7.59534997,  5.33263485,\n",
       "        2.73223337,  1.51030222,  5.76904743,  2.73814848,  3.20478441,\n",
       "        5.42397544,  4.03695421,  5.5511024 ,  3.19451177,  4.9414505 ,\n",
       "        6.64655575,  5.60561602,  5.69345365,  2.83354608,  4.15237158,\n",
       "        4.64568188,  5.00166422,  3.48976752,  5.95909305,  9.15253242,\n",
       "        3.89351042,  2.96833169,  4.98580362,  6.77231357,  3.90856809,\n",
       "        4.88089333,  5.3848313 ,  7.38539243,  7.93641876,  6.16667022,\n",
       "        4.4419146 ,  4.30230102,  2.7876112 ,  6.47010345,  8.9406191 ,\n",
       "        5.07959006,  6.98060025,  6.84518006,  8.04640258,  5.1975601 ,\n",
       "        3.61832623,  2.05615154,  1.19353706,  4.37004529,  5.98934524,\n",
       "        5.82476694,  6.6528282 ,  5.48760209,  2.50712157,  7.12268568,\n",
       "        2.84366939,  9.23024599,  7.8182319 ,  3.24487558,  4.38986255,\n",
       "        5.17336235,  3.9048692 ,  5.32063293,  6.1754475 ,  5.87952019,\n",
       "        5.24682465,  5.99478153,  6.1428597 ,  3.55627372, -1.2845241 ,\n",
       "        8.70459383,  6.02161279,  7.62172433,  3.12977891,  4.53509618,\n",
       "        4.32539691,  6.46987483,  3.81975704,  3.23697925,  6.28478037,\n",
       "        5.66058209,  1.84369503,  5.37348868,  4.73554409,  7.39921577,\n",
       "        4.30203972,  2.9069259 ,  2.51117402,  8.73970042,  3.19886515,\n",
       "        3.68814495,  4.2111779 ,  3.0185158 ,  4.50911302,  5.4855051 ,\n",
       "        4.86005452,  7.34965702,  3.60554043,  4.81177315,  5.52322081,\n",
       "        4.44146509,  6.31251968,  4.58747567,  4.52572732,  3.57511573,\n",
       "        2.4425654 ,  3.04236684, -0.0337142 ,  6.25328358,  5.81469743,\n",
       "        4.44814016,  6.37998255,  3.92207077,  8.07618411,  2.29491658,\n",
       "        4.28955636,  5.21791081,  8.47802885,  3.50142882,  6.21928238,\n",
       "        6.27203964,  7.84457142,  4.30225981,  6.508249  ,  5.89565559,\n",
       "        6.39540515,  7.00053391,  5.38044153,  1.90595594,  6.69679303,\n",
       "        2.60987646,  2.7160008 ,  7.1276591 ,  3.37883956,  2.64746748,\n",
       "        2.8054663 ,  3.4013356 ,  5.64754134,  8.54033143,  5.70410918,\n",
       "        2.95354971,  3.33546237,  4.00181561,  6.35032579,  5.63118527,\n",
       "        3.23570026,  2.38353522,  6.84625261,  4.69496077,  4.66849539,\n",
       "        3.21921068,  1.98954512,  4.92536182,  0.27604272,  3.33787946,\n",
       "        4.56608152,  2.88282375,  5.77456203,  4.07703368,  5.47400877,\n",
       "        5.21141193,  2.52725403,  5.41712715,  4.64819001,  2.6539386 ,\n",
       "        4.69734277,  3.73292479,  2.89405467,  2.81408503,  1.7057513 ,\n",
       "        6.14900128,  5.11801427,  3.42046357,  3.05173367,  4.99683436,\n",
       "        3.44386158,  3.87264715,  5.82153832,  0.05266751,  5.24051779,\n",
       "        1.18513018,  2.73530879,  2.69329868,  6.25602533,  4.66751322,\n",
       "        5.08028042,  6.66730691,  6.61611519,  3.65665099,  8.01545955,\n",
       "        6.02618409,  4.68394361,  7.65136237,  3.35072147,  5.82225075,\n",
       "        3.0682114 ,  4.92306277,  1.08270049,  6.91248158,  4.69913879,\n",
       "        6.42662805,  7.38337933,  4.76511141,  6.36270367,  2.7360024 ,\n",
       "        5.65552531,  7.33816616,  2.70661424,  3.92751108,  6.63549997,\n",
       "        3.65640127,  5.25976356,  7.63336656,  3.70124261,  3.85508418,\n",
       "        2.99637174, -0.47572203,  6.87989561,  2.86972135,  4.65843776,\n",
       "        6.16698556,  6.88069238,  5.02709606,  2.88263705,  3.6998513 ,\n",
       "        8.19588978,  6.10376013,  4.25302283,  5.3277708 ,  6.24827184,\n",
       "        5.59967142,  6.29028153,  3.47937959,  4.36680539,  2.55602903,\n",
       "        6.28219699,  2.22310072,  6.05727495,  1.81344934,  8.10182857,\n",
       "        5.19804044,  3.10068506,  2.43029726,  3.86737133,  4.4241217 ,\n",
       "        7.91015404,  7.57479062,  2.82436216,  6.37435048,  1.08617956,\n",
       "        2.52055729,  3.08350667,  7.38967488,  7.63928493,  7.45798676,\n",
       "        6.10929184,  1.93562742,  4.88990345,  1.60201968,  8.24557302,\n",
       "        4.06935491,  9.84078683,  4.09409012, 10.23091086,  3.86186965,\n",
       "        5.45940195,  4.53061083,  8.18201204,  3.54714503,  3.58970047,\n",
       "        7.27986899,  3.73164356,  3.6522567 ,  6.91665337,  5.57939502,\n",
       "        9.13173553,  3.58421625,  3.71738471,  5.33557658,  5.67361206,\n",
       "        5.47111948,  6.03172871,  3.2229553 , -1.47980479,  7.64660681,\n",
       "        5.84421436,  6.46987913,  4.61699984,  2.29998546,  5.62048788,\n",
       "        6.09074611,  2.42026848,  6.1665027 ,  1.66370467,  5.12066625,\n",
       "        1.03250622,  5.68954685,  5.79118896,  2.05923317,  2.81932661,\n",
       "        2.97795229,  6.33252027,  9.648751  ,  6.81871451,  1.85434078,\n",
       "        1.77898276,  6.84131638,  6.36615312,  2.08085452,  5.61891972,\n",
       "        1.81624604,  6.29719909,  2.39976163,  3.81608617,  2.12632024,\n",
       "        4.94066834,  3.54234505,  5.62817779,  1.06399564,  4.48009446,\n",
       "        7.88608379,  0.86619009,  5.7287915 ,  3.80957059,  4.90330206,\n",
       "        8.65122088,  7.01136295,  6.79506974,  4.82284247,  5.81414454,\n",
       "        5.67478012,  5.92887247,  5.37321585,  5.3369686 ,  7.73886506,\n",
       "        4.62164337,  2.7362496 ,  1.39282662,  6.14570318,  2.40683657,\n",
       "        5.10072267,  6.11355126,  9.11413675,  6.2921835 ,  5.1001222 ,\n",
       "        7.32559025,  5.09153991,  4.38825374,  6.1944289 ,  6.12801093,\n",
       "        4.0402818 ,  1.44538733,  6.34530995,  3.58804936,  2.31849307,\n",
       "        2.07988334,  7.83647024,  5.93808874,  5.63515956,  4.12357699,\n",
       "        5.89882739,  5.76737918,  6.55090864,  6.61007878,  3.47603689,\n",
       "        5.04503658,  7.19765691,  3.06465126,  8.63983991,  6.17699282,\n",
       "        7.93036363,  2.66451097,  3.21469578,  3.96177958,  2.09628909,\n",
       "        6.81072626,  3.17875477,  5.06732567,  3.92910082,  2.7966683 ,\n",
       "        8.03530771,  5.35304769,  8.15901209,  7.5060601 ,  5.65995122,\n",
       "        7.82350303,  5.96982088, -0.98740297,  6.44802012,  7.50058416,\n",
       "        5.2317199 ,  4.35274806,  1.22367693,  5.18076209,  4.89873958,\n",
       "        5.02569367,  6.88007502,  5.31445253,  2.20776062,  4.24746759,\n",
       "        5.00649542,  2.97388927,  4.92732699,  4.22816345,  4.37053106,\n",
       "        7.31682986,  6.48858741,  3.49188696,  4.6472277 ,  4.92999084,\n",
       "        6.13312219,  5.72696959,  7.11695561,  6.78748258,  6.91543688,\n",
       "        6.4836724 ,  4.9437534 ,  7.87315224,  1.98002523,  2.4794803 ,\n",
       "        5.77262966,  3.90175715,  7.21671366,  5.50201967,  7.69624947,\n",
       "        4.71131918,  5.62102638,  4.87688262,  2.79994906,  4.68653553,\n",
       "        6.34820192,  3.89107839,  3.9493243 ,  7.82625286,  6.92297007,\n",
       "        3.59348509,  3.86146612,  3.65694917,  5.84841   ,  2.02860675,\n",
       "        1.50735944,  3.32911718,  1.33863724,  4.64996883,  5.59019044,\n",
       "        6.75453591,  1.08702505,  8.95995483,  3.85993041,  8.70616425,\n",
       "        8.45923799,  3.37650209,  7.95220293,  5.1687167 ,  8.04954446,\n",
       "        0.79065183,  3.82525479,  3.72550752,  4.13865012,  3.97330267,\n",
       "        1.47336116,  3.96593828,  8.73666921,  8.04871652,  4.68657288,\n",
       "        3.78607376,  7.98198403,  5.01379551,  4.47704852,  5.03466245,\n",
       "        5.46410345,  3.37317855,  6.24462083,  4.4688776 ,  5.72818616,\n",
       "        5.35490383,  1.40983214,  4.60973433,  2.47855623,  4.87591784,\n",
       "        5.56591208,  4.77889815,  3.82998282,  4.67315542,  4.72429799,\n",
       "        7.01392586,  3.17973232,  5.40516988,  2.19841478,  5.70333878,\n",
       "        4.35608004,  4.26907712,  4.2728275 ,  3.4137959 ,  2.03784904,\n",
       "       10.45656809,  6.92053471,  6.11796735,  8.27414502,  3.45091658,\n",
       "        5.12007549,  8.34157908,  4.90882921,  1.68757661,  4.66463074,\n",
       "        2.29723175,  1.69397442,  2.1954199 ,  5.60936914,  6.72279983,\n",
       "        5.2247732 ,  6.81739616,  4.31435833,  4.15316518,  6.24691713,\n",
       "        6.13110735,  9.046132  ,  6.02589885,  9.02462976,  0.33834441,\n",
       "        9.50921869,  5.66716097,  5.16836109,  8.02986256,  4.85752833,\n",
       "        1.57781527,  4.69105984,  3.45224465,  4.94397454,  5.27188179,\n",
       "        5.61409445,  1.73252659,  4.05508755,  5.41022071,  3.91254655,\n",
       "        3.73866872,  4.51064956,  5.21421683, -0.25294879,  7.65268132,\n",
       "        6.34685954,  7.53344726,  3.31465062,  4.9600191 ,  4.85483051,\n",
       "        3.52611718,  4.68623898,  7.87376801,  3.78016973,  5.55915527,\n",
       "        7.37002457,  6.57133614,  5.39896574,  7.7342775 ,  7.47021708,\n",
       "        5.10676517,  2.68885584,  3.77188083,  5.37393783,  6.10395893,\n",
       "        3.63574009,  6.12077436,  1.93679534,  3.86676586,  4.82319083,\n",
       "        3.0005978 ,  4.00107889,  5.56712618,  6.66302321,  2.11009792,\n",
       "        5.36869528,  4.26683363,  4.84618475,  5.60053213,  4.78057438,\n",
       "        6.01425678,  1.33828277,  1.18908997,  2.85740979,  8.07863834,\n",
       "        5.33155607,  3.32627673,  6.29021602,  2.78568385,  2.60572193,\n",
       "        6.38928282,  6.08958309,  4.15395844,  4.01924109, -0.37262712,\n",
       "        2.84806754,  6.23917845,  6.13662005,  4.42100012,  5.93061989,\n",
       "        6.77021876,  5.58454867,  6.0788527 ,  4.16055167,  6.69141702,\n",
       "        5.17670514,  4.37681018,  7.02137584,  1.13358668,  5.86237808,\n",
       "        7.65331548,  6.16065228,  4.08139126,  8.95763364,  3.60674528,\n",
       "        2.68693353,  9.35269717,  6.67587688,  3.35111556,  6.57728467,\n",
       "        5.890022  ,  2.13196572,  2.37923366,  6.59785425,  3.80943714,\n",
       "        6.14000815,  6.39011742,  2.50356255,  3.95435049,  1.03729556,\n",
       "        0.46206998,  4.25227588,  8.450272  ,  6.30616523,  5.79291181,\n",
       "        6.29389247,  6.94316959,  4.89783173,  1.59960959,  2.33511219,\n",
       "        3.92607341,  5.02371052,  5.88649954,  6.49894538,  6.01052587,\n",
       "        6.95863827,  2.15302326,  2.52668217,  2.9148002 ,  1.8887006 ,\n",
       "        2.70252181,  3.42894426,  5.01672655,  2.64105469,  2.0905603 ,\n",
       "        9.64081098,  4.57687842,  6.00120295,  3.68464123,  4.37936125,\n",
       "        5.78457662,  2.21090564,  5.249233  ,  6.54058516,  7.08993309,\n",
       "        5.0192774 ,  2.15619019,  6.66880013,  0.96659778,  6.73056941,\n",
       "        7.23280883,  3.73890202,  4.38467264,  5.87112266,  7.50942984,\n",
       "        6.16081093,  6.48042934,  6.26729089,  4.12449636,  4.2546213 ,\n",
       "        4.24155341,  6.46214024,  3.55007085,  6.12824098,  2.76178948,\n",
       "        5.02318556,  2.92400432,  3.70665988,  5.06651704,  5.20216215,\n",
       "        4.5228542 ,  4.79323096,  4.95203592,  3.59577152,  4.31993404,\n",
       "        3.11481491,  6.71798495,  3.52954913,  1.37963206,  6.62254882,\n",
       "        6.94859483,  6.75174817,  5.27973038,  9.60891743,  7.8088136 ,\n",
       "        4.95497521,  3.53660208,  1.66273746,  6.44850732,  3.84246762,\n",
       "        5.29040695,  6.484746  ,  3.27908811,  5.32464876,  5.61217295,\n",
       "        3.80247314,  6.22911383,  5.29128496,  5.57408453,  4.696611  ,\n",
       "        2.78798005,  7.99629599,  5.89209766,  6.19921137,  1.03568703,\n",
       "        5.99357039,  2.69445659,  2.27366383,  6.19272906,  5.54911233,\n",
       "        4.69565334,  4.59776861, 11.05484587,  4.84957121,  4.17174427,\n",
       "        5.60647724,  5.8896807 ,  4.36983039,  3.24983208,  6.09963386,\n",
       "        4.18211463,  3.19560394,  4.33792308,  2.84445562,  5.90397564,\n",
       "        3.92556657,  9.74184391,  2.91620012,  3.36440178,  2.26787772,\n",
       "        0.72465937,  6.11669179,  5.75466745,  0.41563016,  5.49172521,\n",
       "        8.039257  ,  2.96421743,  8.66901182,  6.97513889,  2.83432847,\n",
       "        2.76805627,  7.30363637,  5.94731966,  5.3801925 ,  6.29968203,\n",
       "        6.04603218,  8.07659352,  3.61267316,  2.38696961,  3.15105523,\n",
       "        4.93634005,  3.16915637,  4.97079252,  7.59315218,  5.41593171,\n",
       "        7.01573776,  2.98047305,  6.36753827,  4.99904304,  5.03044119,\n",
       "        5.91554718,  8.24313832,  3.87787249,  5.13508464,  4.80346685,\n",
       "        4.53718493,  4.9335862 ,  4.34549717,  6.04999008,  1.28043087,\n",
       "        4.56818212,  5.89592442,  7.5773326 ,  3.7495151 ,  5.48279418,\n",
       "        3.02345067,  7.87270569,  6.39054619,  1.89609504,  4.49743795,\n",
       "        7.2789654 ,  7.31412518,  5.01214968,  9.73697188,  6.6380398 ,\n",
       "        7.78404989,  5.89768805,  5.29360174,  4.1866838 ,  2.21961735,\n",
       "        4.21574508,  4.43948077,  2.63936743,  8.94821988,  3.94319707,\n",
       "        4.41330618,  4.6188355 ,  4.16476891,  4.25813942,  4.51455138,\n",
       "        4.41370525, -0.8165145 ,  6.03326004,  4.68124831,  8.05553874,\n",
       "        4.85445827,  5.42428348,  8.74554812,  4.56612444,  7.67005158,\n",
       "        7.02035442,  4.06434075,  7.0783393 ,  7.81459706,  6.41330989,\n",
       "        5.21685884,  3.88387896,  3.60484376,  5.21107157,  3.73693505,\n",
       "        1.3385466 ,  4.57148652,  8.71126961,  4.43630718,  5.56543321,\n",
       "        5.21731618,  4.19093963,  4.3760458 ,  6.30473235,  2.18649175,\n",
       "        2.80881125,  4.25416619,  7.75711507,  6.460555  ,  2.61158309,\n",
       "        5.28702794,  3.26803403,  4.97147465,  2.4615323 ,  5.03467761,\n",
       "        5.61662454,  6.91581045,  8.69526356,  6.80149389,  6.37864677,\n",
       "        4.87812621,  4.1535561 ,  5.7583221 ,  4.1910115 ,  4.42716708,\n",
       "        5.12668295,  5.38631654,  2.88619356,  6.38600833,  5.87401103,\n",
       "        4.75479109,  5.59754291,  9.03634721,  2.73755324,  6.51812585,\n",
       "        5.28643433,  5.40890934,  4.47418817,  4.74484318,  6.87950297,\n",
       "        4.13679223,  7.70524701,  2.08319282,  1.81631455,  5.35541459,\n",
       "        4.35681538,  3.14064904,  6.25062624,  0.34825667,  5.85381879,\n",
       "        6.05383575,  4.54344646,  4.33867248,  3.51111166,  3.80391417,\n",
       "        5.27217456,  8.50021207,  7.03129239,  3.12603999,  6.43248098,\n",
       "        1.44296573,  8.93493777,  8.00802493,  5.05442273,  3.77965644,\n",
       "        7.10996137,  3.81245183,  6.54334793,  6.50374582,  3.17971849,\n",
       "        3.0456296 ,  7.94823179,  1.61433915,  3.59700925,  4.45834653,\n",
       "        9.25861461,  3.66523647,  2.65945172,  3.82350492,  4.4695826 ,\n",
       "        6.59152585,  5.90770451,  4.16504358,  4.94024136,  3.02804699,\n",
       "        5.22276537,  5.09373065,  4.10151922,  6.46665811,  2.73570469,\n",
       "        8.04428698,  8.81791324,  4.02465719,  7.12200125,  4.15474809,\n",
       "        0.10400133,  3.43102557,  9.27621557,  5.34941943,  4.74695109,\n",
       "        3.7784262 ,  5.25969337,  3.074825  ,  5.63777946,  5.22325082,\n",
       "        6.54050378,  3.76051491,  4.19266641,  3.18483026,  7.58247213,\n",
       "        5.49458303,  4.27388397,  7.12480789,  3.31672617,  5.71402925,\n",
       "        2.24359161,  7.9350226 ,  6.90526912,  2.38097329,  5.04134559,\n",
       "        4.84425488,  3.34457356,  1.81895745,  3.729351  ,  5.0104144 ])"
      ]
     },
     "execution_count": 8,
     "metadata": {},
     "output_type": "execute_result"
    }
   ],
   "source": [
    "normal_dist"
   ]
  },
  {
   "cell_type": "code",
   "execution_count": 9,
   "metadata": {},
   "outputs": [
    {
     "data": {
      "text/plain": [
       "3.2862601528904633e-16"
      ]
     },
     "execution_count": 9,
     "metadata": {},
     "output_type": "execute_result"
    }
   ],
   "source": [
    "# Here, let's standardize by hand\n",
    "# (x - mean) / std\n",
    "z_dist = [(x - np.mean(normal_dist)) / np.std(normal_dist)\n",
    "          for x in normal_dist]\n",
    "\n",
    "np.mean(z_dist)"
   ]
  },
  {
   "cell_type": "code",
   "execution_count": 10,
   "metadata": {},
   "outputs": [
    {
     "data": {
      "image/png": "[encoded data removed]",
      "text/plain": [
       "<Figure size 720x432 with 2 Axes>"
      ]
     },
     "metadata": {
      "needs_background": "light"
     },
     "output_type": "display_data"
    }
   ],
   "source": [
    "# Visualize it\n",
    "fig, (ax0, ax1) = plt.subplots(nrows=2, sharex=True, figsize=(10, 6))\n",
    "\n",
    "sns.histplot(data=normal_dist, ax=ax0)\n",
    "ax0.set_title('Before Standardization')\n",
    "\n",
    "sns.histplot(data=z_dist, ax=ax1)\n",
    "ax1.set_title('After Standardization')\n",
    "\n",
    "plt.tight_layout()"
   ]
  },
  {
   "cell_type": "markdown",
   "metadata": {
    "hidden": true
   },
   "source": [
    "Talking about the **standard normal distribution** can be very convenient since the values correspond to the number of standard deviations above or below the mean."
   ]
  },
  {
   "cell_type": "markdown",
   "metadata": {
    "heading_collapsed": true,
    "hidden": true
   },
   "source": [
    "## $z$-Score"
   ]
  },
  {
   "cell_type": "markdown",
   "metadata": {
    "hidden": true
   },
   "source": [
    "A **$z$-score** for a specific data point $x$ (in a normal distribution) is simply the distance to the mean in the units of standard deviations\n",
    "\n",
    "$$\\large z = \\frac{x - \\mu}{\\sigma}$$\n",
    "\n",
    "By calculating the z-score of an individual point, we can see how unlikely a value is."
   ]
  },
  {
   "cell_type": "markdown",
   "metadata": {
    "hidden": true
   },
   "source": [
    "Here's a little site with some [interactive Gaussians](https://www.intmath.com/counting-probability/normal-distribution-graph-interactive.php)"
   ]
  },
  {
   "cell_type": "markdown",
   "metadata": {
    "heading_collapsed": true,
    "hidden": true
   },
   "source": [
    "#### 🧠 Knowledge Check"
   ]
  },
  {
   "cell_type": "markdown",
   "metadata": {
    "hidden": true
   },
   "source": [
    "What would the $z$-score be for the middle of a normal curve?\n",
    "\n",
    "- 0\n"
   ]
  },
  {
   "cell_type": "markdown",
   "metadata": {
    "heading_collapsed": true,
    "hidden": true
   },
   "source": [
    "### The Empirical Rule"
   ]
  },
  {
   "cell_type": "markdown",
   "metadata": {
    "hidden": true
   },
   "source": [
    "> Rule states that $68\\%$ of the values of a normal distribution of data lie within 1 standard deviation ($\\sigma$) of the mean, $95\\%$ within $2\\sigma$, and $99.7\\%$ within $3\\sigma$.  \n",
    "\n",
    "This makes it really quick to look at a normal distribution and understand where values tend to lie"
   ]
  },
  {
   "cell_type": "markdown",
   "metadata": {
    "hidden": true
   },
   "source": [
    "<img src='https://github.com/learn-co-students/dsc-0-09-12-gaussian-distributions-online-ds-ft-031119/blob/master/normalsd.jpg?raw=true' width=700/>"
   ]
  },
  {
   "cell_type": "markdown",
   "metadata": {
    "heading_collapsed": true,
    "hidden": true
   },
   "source": [
    "#### 🧠 Knowledge Check"
   ]
  },
  {
   "cell_type": "markdown",
   "metadata": {
    "hidden": true
   },
   "source": [
    "About what percentage of the values would be between a $z$-score of $-1$ and a $z$-score of $2$?\n",
    "\n",
    "<details>\n",
    "    <summary>Answer</summary>\n",
    "    About $82\\%$\n",
    "</details>"
   ]
  },
  {
   "cell_type": "code",
   "execution_count": 11,
   "metadata": {},
   "outputs": [
    {
     "data": {
      "text/plain": [
       "81.5"
      ]
     },
     "execution_count": 11,
     "metadata": {},
     "output_type": "execute_result"
    }
   ],
   "source": [
    "34 + 34 + 13.5"
   ]
  },
  {
   "cell_type": "markdown",
   "metadata": {
    "heading_collapsed": true
   },
   "source": [
    "# Exercises"
   ]
  },
  {
   "cell_type": "markdown",
   "metadata": {},
   "source": [
    "The distribution of people's heights in the United States has a **mean of 66 inches** and a **standard deviation of 4 inches**. "
   ]
  },
  {
   "cell_type": "markdown",
   "metadata": {
    "heading_collapsed": true,
    "hidden": true
   },
   "source": [
    "## Height $z$-score"
   ]
  },
  {
   "cell_type": "markdown",
   "metadata": {
    "hidden": true
   },
   "source": [
    "Calculate the z-score of a height of **76 inches.**"
   ]
  },
  {
   "cell_type": "code",
   "execution_count": 12,
   "metadata": {
    "hidden": true
   },
   "outputs": [
    {
     "data": {
      "text/plain": [
       "2.5"
      ]
     },
     "execution_count": 12,
     "metadata": {},
     "output_type": "execute_result"
    }
   ],
   "source": [
    "# Your code here\n",
    "(76 - 66) / 4"
   ]
  },
  {
   "cell_type": "markdown",
   "metadata": {},
   "source": [
    "<details>\n",
    "    <summary>Answer</summary>\n",
    "    <code># z-score: z = (x - mu) / std\n",
    "(76 - 66) / 4</code>\n",
    "</details>"
   ]
  },
  {
   "cell_type": "markdown",
   "metadata": {},
   "source": [
    "#### Describe the z-score - what does it tell us?\n"
   ]
  },
  {
   "cell_type": "code",
   "execution_count": 14,
   "metadata": {},
   "outputs": [
    {
     "data": {
      "text/plain": [
       "0.9937903346742238"
      ]
     },
     "execution_count": 14,
     "metadata": {},
     "output_type": "execute_result"
    }
   ],
   "source": [
    "stats.norm(loc=0, scale=1).cdf(2.5)"
   ]
  },
  {
   "cell_type": "code",
   "execution_count": 15,
   "metadata": {},
   "outputs": [
    {
     "data": {
      "text/plain": [
       "0.006209665325776159"
      ]
     },
     "execution_count": 15,
     "metadata": {},
     "output_type": "execute_result"
    }
   ],
   "source": [
    "1 - stats.norm(loc=0, scale=1).cdf(2.5)"
   ]
  },
  {
   "cell_type": "markdown",
   "metadata": {
    "heading_collapsed": true,
    "hidden": true
   },
   "source": [
    "## Height Empirical Rule"
   ]
  },
  {
   "cell_type": "markdown",
   "metadata": {
    "hidden": true
   },
   "source": [
    "Determine the proportion of those whose height is between **62 inches and 74 inches**."
   ]
  },
  {
   "cell_type": "code",
   "execution_count": 16,
   "metadata": {},
   "outputs": [
    {
     "data": {
      "text/plain": [
       "(-1.0, 2.0)"
      ]
     },
     "execution_count": 16,
     "metadata": {},
     "output_type": "execute_result"
    }
   ],
   "source": [
    "# Your code here\n",
    "z_62 = (62 - 66) / 4\n",
    "z_74 = (74 - 66) / 4\n",
    "z_62, z_74"
   ]
  },
  {
   "cell_type": "markdown",
   "metadata": {},
   "source": [
    "<details>\n",
    "    <summary>Answer 1</summary>\n",
    "<code># z-scores for 62\" and 74\":\n",
    "z_62 = (62 - 66) / 4\n",
    "z_74 = (74 - 66) / 4\n",
    "z_62, z_74</code>\n",
    "    </details>"
   ]
  },
  {
   "cell_type": "markdown",
   "metadata": {},
   "source": [
    "<details>\n",
    "    <summary>Answer 2</summary>\n",
    "    <code>heights = stats.norm(loc=66, scale=4)\n",
    "heights.cdf(74) - heights.cdf(62)</code>\n",
    "    </details>"
   ]
  },
  {
   "cell_type": "code",
   "execution_count": 17,
   "metadata": {},
   "outputs": [],
   "source": [
    "height_dist = stats.norm(loc=66, scale=4)"
   ]
  },
  {
   "cell_type": "code",
   "execution_count": 18,
   "metadata": {
    "scrolled": true
   },
   "outputs": [
    {
     "data": {
      "text/plain": [
       "0.9772498680518208"
      ]
     },
     "execution_count": 18,
     "metadata": {},
     "output_type": "execute_result"
    }
   ],
   "source": [
    "height_dist.cdf(74)"
   ]
  },
  {
   "cell_type": "code",
   "execution_count": 19,
   "metadata": {
    "scrolled": true
   },
   "outputs": [
    {
     "data": {
      "text/plain": [
       "0.15865525393145707"
      ]
     },
     "execution_count": 19,
     "metadata": {},
     "output_type": "execute_result"
    }
   ],
   "source": [
    "height_dist.cdf(62)"
   ]
  },
  {
   "cell_type": "code",
   "execution_count": 20,
   "metadata": {},
   "outputs": [
    {
     "data": {
      "text/plain": [
       "0.8185946141203637"
      ]
     },
     "execution_count": 20,
     "metadata": {},
     "output_type": "execute_result"
    }
   ],
   "source": [
    "height_dist.cdf(74) - height_dist.cdf(62)"
   ]
  },
  {
   "cell_type": "markdown",
   "metadata": {
    "heading_collapsed": true,
    "hidden": true
   },
   "source": [
    "## Height Percentile"
   ]
  },
  {
   "cell_type": "markdown",
   "metadata": {
    "hidden": true
   },
   "source": [
    "Assuming the above distribution of people's heights in the United States is approximately normal, what percent of people have a height **less than 75 inches**?"
   ]
  },
  {
   "cell_type": "code",
   "execution_count": 24,
   "metadata": {},
   "outputs": [
    {
     "data": {
      "text/plain": [
       "0.9877755273449474"
      ]
     },
     "execution_count": 24,
     "metadata": {},
     "output_type": "execute_result"
    }
   ],
   "source": [
    "# Your code here\n",
    "height_dist.cdf(74.999999999999)"
   ]
  },
  {
   "cell_type": "code",
   "execution_count": 25,
   "metadata": {},
   "outputs": [
    {
     "data": {
      "text/plain": [
       "0.012224472655044696"
      ]
     },
     "execution_count": 25,
     "metadata": {},
     "output_type": "execute_result"
    }
   ],
   "source": [
    "height_dist.sf(75)"
   ]
  },
  {
   "cell_type": "markdown",
   "metadata": {},
   "source": [
    "<details>\n",
    "    <summary>Answer</summary>\n",
    "    <code>heights.cdf(75)</code>\n",
    "    </details>"
   ]
  },
  {
   "cell_type": "markdown",
   "metadata": {
    "heading_collapsed": true,
    "hidden": true
   },
   "source": [
    "## Bonus"
   ]
  },
  {
   "cell_type": "markdown",
   "metadata": {
    "hidden": true
   },
   "source": [
    "Assuming the above distribution of people's heights in the United States is approximately normal, what range of heights contain the **middle 50% of values**, also known as the _interquartile range_ (IQR)?"
   ]
  },
  {
   "cell_type": "code",
   "execution_count": 27,
   "metadata": {},
   "outputs": [
    {
     "data": {
      "text/plain": [
       "0.6744897501960817"
      ]
     },
     "execution_count": 27,
     "metadata": {},
     "output_type": "execute_result"
    }
   ],
   "source": [
    "# z_dist\n",
    "z_dist = stats.norm(loc=0, scale=1)\n",
    "z_dist.ppf(.75)"
   ]
  },
  {
   "cell_type": "code",
   "execution_count": 28,
   "metadata": {
    "scrolled": true
   },
   "outputs": [
    {
     "data": {
      "text/plain": [
       "(63.30204099921567, 68.69795900078432)"
      ]
     },
     "execution_count": 28,
     "metadata": {},
     "output_type": "execute_result"
    }
   ],
   "source": [
    "height_dist.ppf(.25), height_dist.ppf(.75)"
   ]
  },
  {
   "cell_type": "code",
   "execution_count": 29,
   "metadata": {},
   "outputs": [
    {
     "data": {
      "text/plain": [
       "0.6750000000000007"
      ]
     },
     "execution_count": 29,
     "metadata": {},
     "output_type": "execute_result"
    }
   ],
   "source": [
    "(68.7 - 66) / 4 "
   ]
  },
  {
   "cell_type": "markdown",
   "metadata": {},
   "source": [
    "<details>\n",
    "    <summary>Answer</summary>\n",
    "    <code>heights.ppf(0.25), heights.ppf(0.75)</code>\n",
    "    </details>"
   ]
  },
  {
   "cell_type": "markdown",
   "metadata": {},
   "source": [
    "## Time for Pandas!\n",
    "\n",
    "Let's use the same Seattle City Employee data from the first Distributions lecture to check out what scaling looks like in practice!\n",
    "\n",
    "Data source: https://data.seattle.gov/City-Business/City-of-Seattle-Wage-Data/2khk-5ukd"
   ]
  },
  {
   "cell_type": "code",
   "execution_count": 30,
   "metadata": {},
   "outputs": [],
   "source": [
    "# Read in the data\n",
    "df = pd.read_csv('data/City_of_Seattle_Wage_Data_031422.csv')"
   ]
  },
  {
   "cell_type": "code",
   "execution_count": 31,
   "metadata": {},
   "outputs": [
    {
     "data": {
      "text/html": [
       "<div>\n",
       "<style scoped>\n",
       "    .dataframe tbody tr th:only-of-type {\n",
       "        vertical-align: middle;\n",
       "    }\n",
       "\n",
       "    .dataframe tbody tr th {\n",
       "        vertical-align: top;\n",
       "    }\n",
       "\n",
       "    .dataframe thead th {\n",
       "        text-align: right;\n",
       "    }\n",
       "</style>\n",
       "<table border=\"1\" class=\"dataframe\">\n",
       "  <thead>\n",
       "    <tr style=\"text-align: right;\">\n",
       "      <th></th>\n",
       "      <th>Department</th>\n",
       "      <th>Last Name</th>\n",
       "      <th>First Name</th>\n",
       "      <th>Job Title</th>\n",
       "      <th>Hourly Rate</th>\n",
       "    </tr>\n",
       "  </thead>\n",
       "  <tbody>\n",
       "    <tr>\n",
       "      <th>0</th>\n",
       "      <td>Seattle Public Utilities</td>\n",
       "      <td>Batchelor</td>\n",
       "      <td>Craig</td>\n",
       "      <td>Civil Engrng Spec,Sr</td>\n",
       "      <td>53.740</td>\n",
       "    </tr>\n",
       "    <tr>\n",
       "      <th>1</th>\n",
       "      <td>Finance &amp; Admin Services</td>\n",
       "      <td>Altice</td>\n",
       "      <td>Jeffrey</td>\n",
       "      <td>Auto Mechanic</td>\n",
       "      <td>39.780</td>\n",
       "    </tr>\n",
       "    <tr>\n",
       "      <th>2</th>\n",
       "      <td>Finance &amp; Admin Services</td>\n",
       "      <td>Montes</td>\n",
       "      <td>Valeria</td>\n",
       "      <td>Cust Svc Rep</td>\n",
       "      <td>29.450</td>\n",
       "    </tr>\n",
       "    <tr>\n",
       "      <th>3</th>\n",
       "      <td>Fire Department</td>\n",
       "      <td>Kuklok</td>\n",
       "      <td>Rebecca</td>\n",
       "      <td>Cust Svc Rep *</td>\n",
       "      <td>29.450</td>\n",
       "    </tr>\n",
       "    <tr>\n",
       "      <th>4</th>\n",
       "      <td>Planning &amp; Comm Development</td>\n",
       "      <td>Quirindongo</td>\n",
       "      <td>Rico</td>\n",
       "      <td>Executive3</td>\n",
       "      <td>97.164</td>\n",
       "    </tr>\n",
       "  </tbody>\n",
       "</table>\n",
       "</div>"
      ],
      "text/plain": [
       "                    Department    Last Name First Name             Job Title  \\\n",
       "0     Seattle Public Utilities    Batchelor      Craig  Civil Engrng Spec,Sr   \n",
       "1     Finance & Admin Services       Altice    Jeffrey         Auto Mechanic   \n",
       "2     Finance & Admin Services       Montes    Valeria          Cust Svc Rep   \n",
       "3              Fire Department       Kuklok    Rebecca        Cust Svc Rep *   \n",
       "4  Planning & Comm Development  Quirindongo       Rico            Executive3   \n",
       "\n",
       "   Hourly Rate   \n",
       "0        53.740  \n",
       "1        39.780  \n",
       "2        29.450  \n",
       "3        29.450  \n",
       "4        97.164  "
      ]
     },
     "execution_count": 31,
     "metadata": {},
     "output_type": "execute_result"
    }
   ],
   "source": [
    "# Check it\n",
    "df.head()"
   ]
  },
  {
   "cell_type": "code",
   "execution_count": 32,
   "metadata": {},
   "outputs": [],
   "source": [
    "# Rename the columns\n",
    "df = df.rename(columns = lambda x: x.replace(\" \", \"\"))"
   ]
  },
  {
   "cell_type": "code",
   "execution_count": 33,
   "metadata": {},
   "outputs": [
    {
     "data": {
      "text/html": [
       "<div>\n",
       "<style scoped>\n",
       "    .dataframe tbody tr th:only-of-type {\n",
       "        vertical-align: middle;\n",
       "    }\n",
       "\n",
       "    .dataframe tbody tr th {\n",
       "        vertical-align: top;\n",
       "    }\n",
       "\n",
       "    .dataframe thead th {\n",
       "        text-align: right;\n",
       "    }\n",
       "</style>\n",
       "<table border=\"1\" class=\"dataframe\">\n",
       "  <thead>\n",
       "    <tr style=\"text-align: right;\">\n",
       "      <th></th>\n",
       "      <th>HourlyRate</th>\n",
       "    </tr>\n",
       "  </thead>\n",
       "  <tbody>\n",
       "    <tr>\n",
       "      <th>count</th>\n",
       "      <td>11739.000000</td>\n",
       "    </tr>\n",
       "    <tr>\n",
       "      <th>mean</th>\n",
       "      <td>47.817331</td>\n",
       "    </tr>\n",
       "    <tr>\n",
       "      <th>std</th>\n",
       "      <td>16.722128</td>\n",
       "    </tr>\n",
       "    <tr>\n",
       "      <th>min</th>\n",
       "      <td>5.530000</td>\n",
       "    </tr>\n",
       "    <tr>\n",
       "      <th>25%</th>\n",
       "      <td>35.400000</td>\n",
       "    </tr>\n",
       "    <tr>\n",
       "      <th>50%</th>\n",
       "      <td>47.340000</td>\n",
       "    </tr>\n",
       "    <tr>\n",
       "      <th>75%</th>\n",
       "      <td>59.550000</td>\n",
       "    </tr>\n",
       "    <tr>\n",
       "      <th>max</th>\n",
       "      <td>187.767000</td>\n",
       "    </tr>\n",
       "  </tbody>\n",
       "</table>\n",
       "</div>"
      ],
      "text/plain": [
       "         HourlyRate\n",
       "count  11739.000000\n",
       "mean      47.817331\n",
       "std       16.722128\n",
       "min        5.530000\n",
       "25%       35.400000\n",
       "50%       47.340000\n",
       "75%       59.550000\n",
       "max      187.767000"
      ]
     },
     "execution_count": 33,
     "metadata": {},
     "output_type": "execute_result"
    }
   ],
   "source": [
    "# Describe the numeric column\n",
    "df.describe()"
   ]
  },
  {
   "cell_type": "code",
   "execution_count": 34,
   "metadata": {},
   "outputs": [
    {
     "data": {
      "image/png": "[encoded data removed]",
      "text/plain": [
       "<Figure size 432x288 with 1 Axes>"
      ]
     },
     "metadata": {
      "needs_background": "light"
     },
     "output_type": "display_data"
    }
   ],
   "source": [
    "# Plot the hourly rate column\n",
    "sns.kdeplot(df['HourlyRate']);"
   ]
  },
  {
   "cell_type": "markdown",
   "metadata": {},
   "source": [
    "How can we describe this distribution?\n",
    "\n",
    "- Extreme high postive values, outliers\n",
    "- Bimodal or maybe even trimodal\n",
    "- Not perfectly normal, but it is kinda normal\n"
   ]
  },
  {
   "cell_type": "markdown",
   "metadata": {},
   "source": [
    "### Using Z-Scores"
   ]
  },
  {
   "cell_type": "code",
   "execution_count": 35,
   "metadata": {
    "scrolled": true
   },
   "outputs": [
    {
     "data": {
      "text/html": [
       "<div>\n",
       "<style scoped>\n",
       "    .dataframe tbody tr th:only-of-type {\n",
       "        vertical-align: middle;\n",
       "    }\n",
       "\n",
       "    .dataframe tbody tr th {\n",
       "        vertical-align: top;\n",
       "    }\n",
       "\n",
       "    .dataframe thead th {\n",
       "        text-align: right;\n",
       "    }\n",
       "</style>\n",
       "<table border=\"1\" class=\"dataframe\">\n",
       "  <thead>\n",
       "    <tr style=\"text-align: right;\">\n",
       "      <th></th>\n",
       "      <th>Department</th>\n",
       "      <th>LastName</th>\n",
       "      <th>FirstName</th>\n",
       "      <th>JobTitle</th>\n",
       "      <th>HourlyRate</th>\n",
       "    </tr>\n",
       "  </thead>\n",
       "  <tbody>\n",
       "    <tr>\n",
       "      <th>8552</th>\n",
       "      <td>Seattle City Light</td>\n",
       "      <td>Frey</td>\n",
       "      <td>Theodore</td>\n",
       "      <td>Enrgy Mgmt Anlyst,Asst</td>\n",
       "      <td>47.95</td>\n",
       "    </tr>\n",
       "  </tbody>\n",
       "</table>\n",
       "</div>"
      ],
      "text/plain": [
       "              Department LastName FirstName                JobTitle  \\\n",
       "8552  Seattle City Light     Frey  Theodore  Enrgy Mgmt Anlyst,Asst   \n",
       "\n",
       "      HourlyRate  \n",
       "8552       47.95  "
      ]
     },
     "execution_count": 35,
     "metadata": {},
     "output_type": "execute_result"
    }
   ],
   "source": [
    "# Grab a sample row\n",
    "sample_row = df.sample(1)\n",
    "sample_row"
   ]
  },
  {
   "cell_type": "code",
   "execution_count": 36,
   "metadata": {},
   "outputs": [
    {
     "data": {
      "text/plain": [
       "0.007933730440976722"
      ]
     },
     "execution_count": 36,
     "metadata": {},
     "output_type": "execute_result"
    }
   ],
   "source": [
    "# Calculate the z-score for that row's HourlyRate\n",
    "(sample_row['HourlyRate'].values[0] - df['HourlyRate'].mean()) / df['HourlyRate'].std()"
   ]
  },
  {
   "cell_type": "code",
   "execution_count": 37,
   "metadata": {
    "scrolled": true
   },
   "outputs": [
    {
     "data": {
      "text/plain": [
       "16.722127999840392"
      ]
     },
     "execution_count": 37,
     "metadata": {},
     "output_type": "execute_result"
    }
   ],
   "source": [
    "df['HourlyRate'].std()"
   ]
  },
  {
   "cell_type": "code",
   "execution_count": 38,
   "metadata": {
    "scrolled": true
   },
   "outputs": [],
   "source": [
    "# Standardize the column\n",
    "mu = df['HourlyRate'].mean()\n",
    "sigma = df['HourlyRate'].std()\n",
    "standardized_rate = [(x-mu)/sigma for x in df['HourlyRate']]"
   ]
  },
  {
   "cell_type": "code",
   "execution_count": 41,
   "metadata": {
    "scrolled": true
   },
   "outputs": [
    {
     "data": {
      "image/png": "[encoded data removed]",
      "text/plain": [
       "<Figure size 432x288 with 2 Axes>"
      ]
     },
     "metadata": {
      "needs_background": "light"
     },
     "output_type": "display_data"
    }
   ],
   "source": [
    "# Visualize it\n",
    "fig, (ax1, ax2) = plt.subplots(nrows=2, ncols=1, sharex=True)\n",
    "# Can toggle sharex to see the impact of the scale\n",
    "\n",
    "sns.kdeplot(df['HourlyRate'], ax=ax1, label='Without Scaling')\n",
    "ax1.legend()\n",
    "\n",
    "sns.kdeplot(standardized_rate, ax=ax2, label='With Scaling')\n",
    "ax2.legend()\n",
    "\n",
    "plt.show()"
   ]
  },
  {
   "cell_type": "markdown",
   "metadata": {},
   "source": [
    "Let's discuss:\n",
    "\n",
    "-Puts values in units of STD away from mean"
   ]
  },
  {
   "cell_type": "markdown",
   "metadata": {},
   "source": [
    "## Central Limit Theorem (CLT)\n",
    "\n",
    "We mentioned that the distribution above doesn't seem very normal. But here's something cool:\n",
    "\n",
    "> \"The central limit theorem states that the sampling distribution of the mean of any independent, random variable will be normal or nearly normal, if the sample size is large enough.\" \n",
    "- From [Stat Trek](https://stattrek.com/statistics/dictionary.aspx?definition=central_limit_theorem)"
   ]
  },
  {
   "cell_type": "markdown",
   "metadata": {},
   "source": [
    "Let's look at an example, using the popular Iris dataset:\n",
    "\n",
    "<img src=\"images/probability-basics.gif\" width=800>\n",
    "\n",
    "Here, taking samples of 15 flowers at a time and measuring their sepal lengths, we see that the the mean of the samples is normally distributed, where the mean of that normal distribution approximates the population mean. \n",
    "\n",
    "The coolest part is - this is true and works almost no matter what the original distribution is! (I say 'almost' because there are exceptions, of course). Even when we have _distinctly non-normal distributions_, we can use sampling to get a representation of population parameters (like the population mean)."
   ]
  },
  {
   "cell_type": "markdown",
   "metadata": {},
   "source": [
    "## Revisiting Sampling\n",
    "\n",
    "Before we apply a theorem that's related to sampling, we should remember some key things about sampling.\n",
    "\n",
    "<img src=\"images/sample_pop.png\" alt=\"sampling example with circled people\" width=800>\n",
    "\n",
    "Our goal when sampling is to find a representative group, from which we can infer population parameters.\n",
    "\n",
    "Remember: samples have statistics, populations have parameters.\n",
    "\n",
    "In order to do this effectively, our sample should be randomly selected and representative of our population (which sounds nice and easy, it's hard to do in practice). We are trying to minimize bias in our sample, but also we are sampling because we're trying to minimize cost as well."
   ]
  },
  {
   "cell_type": "markdown",
   "metadata": {},
   "source": [
    "### Back to our Seattle Data"
   ]
  },
  {
   "cell_type": "markdown",
   "metadata": {},
   "source": [
    "Let's take 100 samples of 50 employees each time, and see what their average hourly rate is:"
   ]
  },
  {
   "cell_type": "code",
   "execution_count": 53,
   "metadata": {},
   "outputs": [],
   "source": [
    "k = 1000 # number of samples\n",
    "n = 50 # number of employees per sample\n",
    "\n",
    "# The full for loop version:\n",
    "# sample_means = []\n",
    "# for x in range(n):\n",
    "#     sample_emps = df.sample(n=n)\n",
    "#     sample_mean = sample_emps['Hourly Rate '].mean()\n",
    "#     sample_means.append(sample_mean)\n",
    "    \n",
    "# But let's do this with list comprehension:\n",
    "sample_means = [np.mean(df.sample(n=n))[0] for x in range(k)]"
   ]
  },
  {
   "cell_type": "code",
   "execution_count": 54,
   "metadata": {
    "scrolled": true
   },
   "outputs": [
    {
     "data": {
      "text/plain": [
       "[44.98298,\n",
       " 44.573389999999996,\n",
       " 49.904302,\n",
       " 43.37403800000001,\n",
       " 47.198012000000006,\n",
       " 50.579032000000005,\n",
       " 51.438948,\n",
       " 49.03768,\n",
       " 47.71048,\n",
       " 49.607048000000006,\n",
       " 48.95999400000001,\n",
       " 48.26635400000001,\n",
       " 47.020599999999995,\n",
       " 42.325224,\n",
       " 47.84174800000001,\n",
       " 49.17186200000001,\n",
       " 47.479754,\n",
       " 46.83686000000001,\n",
       " 47.90126,\n",
       " 50.562767999999984,\n",
       " 43.3012,\n",
       " 52.478131999999995,\n",
       " 46.458681999999996,\n",
       " 46.78722,\n",
       " 44.683240000000005,\n",
       " 49.573364,\n",
       " 49.506496,\n",
       " 52.126172,\n",
       " 50.74602,\n",
       " 49.646736000000004,\n",
       " 46.3962,\n",
       " 45.56258,\n",
       " 44.656850000000006,\n",
       " 46.164947999999995,\n",
       " 50.996489999999994,\n",
       " 48.59299999999999,\n",
       " 51.917432,\n",
       " 50.903783999999995,\n",
       " 49.85128,\n",
       " 48.47216599999999,\n",
       " 50.011260000000014,\n",
       " 45.727032,\n",
       " 47.179075999999995,\n",
       " 45.762534,\n",
       " 48.81242000000001,\n",
       " 49.841524,\n",
       " 51.06092,\n",
       " 48.29207599999999,\n",
       " 45.08684,\n",
       " 50.158460000000005,\n",
       " 46.434336,\n",
       " 47.283798,\n",
       " 46.48071200000001,\n",
       " 48.540378000000004,\n",
       " 46.912518,\n",
       " 47.525740000000006,\n",
       " 44.28388000000001,\n",
       " 51.38157999999999,\n",
       " 42.599740000000004,\n",
       " 52.894238,\n",
       " 49.668822000000006,\n",
       " 47.57463800000001,\n",
       " 48.158819999999984,\n",
       " 43.36712000000001,\n",
       " 46.72576,\n",
       " 47.923492,\n",
       " 48.01006,\n",
       " 45.98408799999999,\n",
       " 55.447158,\n",
       " 50.920564000000006,\n",
       " 45.372232000000004,\n",
       " 44.028492,\n",
       " 44.840737999999995,\n",
       " 55.057958,\n",
       " 49.868739999999995,\n",
       " 48.978680000000004,\n",
       " 47.705847999999996,\n",
       " 49.06601999999999,\n",
       " 47.070100000000004,\n",
       " 49.040707999999995,\n",
       " 43.35834,\n",
       " 49.582361999999996,\n",
       " 47.92206000000001,\n",
       " 52.238186000000006,\n",
       " 45.229582,\n",
       " 46.808448,\n",
       " 49.38862,\n",
       " 47.65662,\n",
       " 51.39438,\n",
       " 47.61275799999999,\n",
       " 48.332018,\n",
       " 48.215824000000005,\n",
       " 49.83322799999999,\n",
       " 48.818146,\n",
       " 44.109654,\n",
       " 47.980478000000005,\n",
       " 47.556636,\n",
       " 52.965959999999995,\n",
       " 50.703300000000006,\n",
       " 44.39372,\n",
       " 47.551856,\n",
       " 48.41864199999999,\n",
       " 49.434810000000006,\n",
       " 49.653845999999994,\n",
       " 45.57144,\n",
       " 46.925416000000006,\n",
       " 46.11418,\n",
       " 47.840134,\n",
       " 49.61083999999999,\n",
       " 50.42337,\n",
       " 49.258026,\n",
       " 45.489695999999995,\n",
       " 47.98027999999999,\n",
       " 43.78906,\n",
       " 48.66129999999999,\n",
       " 44.289398,\n",
       " 50.319812,\n",
       " 49.31331800000001,\n",
       " 47.50021999999999,\n",
       " 46.282312000000005,\n",
       " 45.391251999999994,\n",
       " 43.26188,\n",
       " 46.03885999999999,\n",
       " 45.76462000000001,\n",
       " 46.35412,\n",
       " 49.50618,\n",
       " 48.13544600000001,\n",
       " 46.655063999999996,\n",
       " 41.9823,\n",
       " 43.374641999999994,\n",
       " 46.376882,\n",
       " 45.621433999999994,\n",
       " 51.15666,\n",
       " 44.16956000000001,\n",
       " 47.0783,\n",
       " 47.92076,\n",
       " 50.32084,\n",
       " 46.844758,\n",
       " 47.155713999999996,\n",
       " 45.543127999999996,\n",
       " 51.601130000000005,\n",
       " 46.5813,\n",
       " 48.69865999999999,\n",
       " 45.47299999999999,\n",
       " 47.02199999999999,\n",
       " 50.807828,\n",
       " 46.36565999999999,\n",
       " 45.794261999999996,\n",
       " 47.52778399999999,\n",
       " 47.866122000000004,\n",
       " 45.54730000000001,\n",
       " 44.477920000000005,\n",
       " 44.40175800000001,\n",
       " 46.05738000000001,\n",
       " 51.987088,\n",
       " 43.733720000000005,\n",
       " 47.846918,\n",
       " 51.34392600000001,\n",
       " 46.782772,\n",
       " 43.612118,\n",
       " 50.152438000000004,\n",
       " 48.58252,\n",
       " 49.00611,\n",
       " 46.311980000000005,\n",
       " 47.23609999999999,\n",
       " 48.90229400000001,\n",
       " 47.02384,\n",
       " 48.39376,\n",
       " 47.35908199999999,\n",
       " 49.211668,\n",
       " 46.675958,\n",
       " 45.89392599999999,\n",
       " 45.619406,\n",
       " 51.537780000000005,\n",
       " 46.60536,\n",
       " 54.798680000000004,\n",
       " 44.299316,\n",
       " 47.64597,\n",
       " 50.723680000000016,\n",
       " 43.763180000000006,\n",
       " 46.474259999999994,\n",
       " 46.00114000000001,\n",
       " 49.59111999999999,\n",
       " 46.91723999999999,\n",
       " 49.65104000000001,\n",
       " 47.57606799999999,\n",
       " 47.13062000000001,\n",
       " 44.63901999999999,\n",
       " 49.04822000000001,\n",
       " 48.115410000000004,\n",
       " 50.85672000000002,\n",
       " 47.272327999999995,\n",
       " 47.85543199999999,\n",
       " 49.64400199999999,\n",
       " 50.69686000000001,\n",
       " 50.110859999999995,\n",
       " 45.059168,\n",
       " 46.516360000000006,\n",
       " 47.47525800000001,\n",
       " 52.328979999999994,\n",
       " 45.75330000000001,\n",
       " 46.29706000000001,\n",
       " 42.24184,\n",
       " 42.82394,\n",
       " 49.60550000000001,\n",
       " 46.50826,\n",
       " 46.220259999999996,\n",
       " 48.731622000000016,\n",
       " 47.716347999999996,\n",
       " 48.580094,\n",
       " 47.970240000000004,\n",
       " 45.42824,\n",
       " 48.101074,\n",
       " 47.432112,\n",
       " 49.966176,\n",
       " 47.00504599999999,\n",
       " 47.90696,\n",
       " 46.1154,\n",
       " 48.294556,\n",
       " 49.65568000000001,\n",
       " 46.15651199999999,\n",
       " 45.561960000000006,\n",
       " 45.29494,\n",
       " 48.462728,\n",
       " 49.46330400000001,\n",
       " 45.985514,\n",
       " 48.75338,\n",
       " 46.164612000000005,\n",
       " 50.32010399999999,\n",
       " 47.22488800000001,\n",
       " 47.66660000000001,\n",
       " 45.84928,\n",
       " 46.018940000000015,\n",
       " 48.985012,\n",
       " 49.336478,\n",
       " 53.757746000000004,\n",
       " 46.463280000000005,\n",
       " 46.179204,\n",
       " 45.905338,\n",
       " 48.429856,\n",
       " 45.34486199999999,\n",
       " 50.49275200000001,\n",
       " 46.74522199999999,\n",
       " 45.76932,\n",
       " 46.2116,\n",
       " 46.069086,\n",
       " 46.52206,\n",
       " 44.212439999999994,\n",
       " 47.736619999999995,\n",
       " 49.689082,\n",
       " 49.944112000000004,\n",
       " 48.68523999999999,\n",
       " 47.39924,\n",
       " 48.929136,\n",
       " 47.69562,\n",
       " 45.50884,\n",
       " 49.076408,\n",
       " 46.96176,\n",
       " 46.516507999999995,\n",
       " 47.07289,\n",
       " 51.93701999999999,\n",
       " 43.240520000000004,\n",
       " 50.726330000000004,\n",
       " 48.991611999999996,\n",
       " 49.498397999999995,\n",
       " 47.40305399999999,\n",
       " 46.72854,\n",
       " 45.34654,\n",
       " 54.37478999999999,\n",
       " 44.168383999999996,\n",
       " 44.343759999999996,\n",
       " 48.630919999999996,\n",
       " 54.53479600000001,\n",
       " 48.117124000000004,\n",
       " 52.390808,\n",
       " 46.202690000000004,\n",
       " 47.24182,\n",
       " 48.824895999999995,\n",
       " 48.76272,\n",
       " 48.00128000000001,\n",
       " 48.752648,\n",
       " 47.5928,\n",
       " 40.803758,\n",
       " 45.035106000000006,\n",
       " 47.510848,\n",
       " 46.846754000000004,\n",
       " 47.102468,\n",
       " 50.120056000000005,\n",
       " 45.394548000000015,\n",
       " 50.63588,\n",
       " 46.20328000000001,\n",
       " 49.612018,\n",
       " 46.53274000000001,\n",
       " 48.191579999999995,\n",
       " 45.64602,\n",
       " 50.31080800000001,\n",
       " 48.96564,\n",
       " 51.63784799999999,\n",
       " 47.230256,\n",
       " 47.36780400000001,\n",
       " 44.17596,\n",
       " 47.82005999999999,\n",
       " 49.70931999999999,\n",
       " 44.883346,\n",
       " 45.598844,\n",
       " 46.760459999999995,\n",
       " 48.37604,\n",
       " 46.453300000000006,\n",
       " 49.47812,\n",
       " 46.72809600000001,\n",
       " 48.413934,\n",
       " 46.691,\n",
       " 47.31994600000001,\n",
       " 46.40278,\n",
       " 49.81294400000001,\n",
       " 48.81834999999999,\n",
       " 46.89091999999999,\n",
       " 50.32728,\n",
       " 48.860882000000004,\n",
       " 49.538298000000005,\n",
       " 48.364334,\n",
       " 46.827278,\n",
       " 47.948730000000005,\n",
       " 48.249058,\n",
       " 47.760586,\n",
       " 43.792086,\n",
       " 46.622904000000005,\n",
       " 45.574946,\n",
       " 48.052580000000006,\n",
       " 44.84093999999999,\n",
       " 48.30195,\n",
       " 43.853788,\n",
       " 47.75594,\n",
       " 47.91102,\n",
       " 48.84337999999999,\n",
       " 41.971154,\n",
       " 47.879080000000016,\n",
       " 50.29924,\n",
       " 48.047985999999995,\n",
       " 48.88878,\n",
       " 45.71576,\n",
       " 46.773892,\n",
       " 45.704063999999995,\n",
       " 50.640131999999994,\n",
       " 44.77567200000001,\n",
       " 47.87712,\n",
       " 50.122012,\n",
       " 46.488085999999996,\n",
       " 49.98740000000001,\n",
       " 46.0943,\n",
       " 45.849,\n",
       " 43.88706000000001,\n",
       " 46.905620000000006,\n",
       " 49.30625,\n",
       " 49.40938,\n",
       " 49.029213999999996,\n",
       " 47.36894,\n",
       " 49.036948,\n",
       " 48.45268,\n",
       " 49.406859999999995,\n",
       " 45.512392,\n",
       " 50.32491400000001,\n",
       " 45.44651999999999,\n",
       " 46.78613399999999,\n",
       " 48.26225,\n",
       " 46.46326200000001,\n",
       " 48.91824000000001,\n",
       " 48.303014000000005,\n",
       " 51.24103800000001,\n",
       " 49.13942000000001,\n",
       " 45.08242000000001,\n",
       " 45.28655600000001,\n",
       " 46.015139999999995,\n",
       " 51.177060000000004,\n",
       " 50.484120000000004,\n",
       " 47.37297399999999,\n",
       " 52.41085200000001,\n",
       " 43.262598,\n",
       " 51.416604,\n",
       " 49.377626,\n",
       " 45.237888000000005,\n",
       " 47.412752,\n",
       " 49.191064,\n",
       " 47.38495999999999,\n",
       " 46.92575599999999,\n",
       " 46.15920800000001,\n",
       " 49.717924,\n",
       " 46.78206000000001,\n",
       " 46.170612,\n",
       " 49.308278,\n",
       " 46.715821999999996,\n",
       " 45.958324000000005,\n",
       " 47.489732000000004,\n",
       " 49.087999999999994,\n",
       " 46.711308,\n",
       " 45.605115999999995,\n",
       " 45.906243999999994,\n",
       " 47.30497,\n",
       " 41.1353,\n",
       " 48.099962000000005,\n",
       " 49.24901400000001,\n",
       " 47.04818000000001,\n",
       " 48.654948000000005,\n",
       " 47.699416000000014,\n",
       " 50.03427,\n",
       " 44.325891999999996,\n",
       " 45.58467999999999,\n",
       " 51.981480000000005,\n",
       " 45.308513999999995,\n",
       " 50.02911000000001,\n",
       " 47.03119999999999,\n",
       " 53.160194000000004,\n",
       " 46.53518399999999,\n",
       " 46.184267999999996,\n",
       " 46.72696,\n",
       " 52.73456,\n",
       " 49.51743,\n",
       " 46.67448600000001,\n",
       " 51.1366,\n",
       " 49.905047999999994,\n",
       " 50.075176,\n",
       " 46.45032000000001,\n",
       " 46.2372,\n",
       " 47.72294,\n",
       " 44.55112000000001,\n",
       " 46.849759999999996,\n",
       " 50.112187999999996,\n",
       " 49.51877799999999,\n",
       " 52.416878000000004,\n",
       " 49.2342,\n",
       " 49.070476,\n",
       " 53.66387999999999,\n",
       " 46.23928599999999,\n",
       " 45.822008,\n",
       " 47.128640000000004,\n",
       " 47.900150000000004,\n",
       " 44.985218,\n",
       " 49.565866,\n",
       " 43.12878,\n",
       " 45.19612,\n",
       " 46.86536000000001,\n",
       " 53.620785999999995,\n",
       " 46.425656,\n",
       " 48.937667999999995,\n",
       " 46.97152000000001,\n",
       " 52.26223,\n",
       " 51.349920000000004,\n",
       " 45.37426000000001,\n",
       " 49.36148,\n",
       " 45.08318,\n",
       " 44.26437999999999,\n",
       " 46.77018,\n",
       " 47.536300000000004,\n",
       " 47.66414,\n",
       " 45.65286999999999,\n",
       " 45.926104,\n",
       " 46.86841,\n",
       " 43.812540000000006,\n",
       " 50.1417,\n",
       " 48.92602399999999,\n",
       " 47.241127999999996,\n",
       " 47.356027999999995,\n",
       " 45.1949,\n",
       " 48.412440000000004,\n",
       " 48.966732,\n",
       " 50.034844,\n",
       " 47.718624,\n",
       " 45.05411999999999,\n",
       " 48.580584,\n",
       " 47.01655000000001,\n",
       " 46.12115800000001,\n",
       " 47.36050000000001,\n",
       " 46.46889,\n",
       " 46.567980000000006,\n",
       " 46.107144000000005,\n",
       " 45.91400000000001,\n",
       " 43.375872,\n",
       " 48.832826,\n",
       " 46.136902,\n",
       " 49.530816,\n",
       " 52.187716,\n",
       " 49.371040000000015,\n",
       " 47.20271400000001,\n",
       " 47.36888,\n",
       " 50.327774,\n",
       " 50.95078999999999,\n",
       " 46.723,\n",
       " 48.364762,\n",
       " 47.11958799999999,\n",
       " 48.23858800000001,\n",
       " 45.64826,\n",
       " 49.519658,\n",
       " 44.09781000000001,\n",
       " 45.727048,\n",
       " 54.31752,\n",
       " 46.329482000000006,\n",
       " 46.366760000000006,\n",
       " 45.559722,\n",
       " 45.323479999999996,\n",
       " 47.19286,\n",
       " 46.14502399999999,\n",
       " 45.41329,\n",
       " 48.908592,\n",
       " 51.524513999999996,\n",
       " 47.71692800000001,\n",
       " 47.38172,\n",
       " 48.89315,\n",
       " 43.115379999999995,\n",
       " 51.67581,\n",
       " 48.108000000000004,\n",
       " 47.900178,\n",
       " 44.354968,\n",
       " 47.262527999999996,\n",
       " 43.73648599999999,\n",
       " 48.552528,\n",
       " 50.62869599999999,\n",
       " 52.499646000000006,\n",
       " 48.351438,\n",
       " 46.176254,\n",
       " 47.715737999999995,\n",
       " 50.85732999999999,\n",
       " 51.006845999999996,\n",
       " 44.923519999999996,\n",
       " 50.00398800000001,\n",
       " 46.268,\n",
       " 48.822944,\n",
       " 47.83277999999999,\n",
       " 50.72637199999999,\n",
       " 47.912962,\n",
       " 46.573119999999996,\n",
       " 49.767075999999996,\n",
       " 49.94364,\n",
       " 46.5014,\n",
       " 48.56742200000001,\n",
       " 51.755019999999995,\n",
       " 50.815268,\n",
       " 44.615790000000004,\n",
       " 46.50000000000001,\n",
       " 48.64968,\n",
       " 50.243640000000006,\n",
       " 46.554260000000006,\n",
       " 51.080958,\n",
       " 51.698474,\n",
       " 50.31255999999999,\n",
       " 41.172142,\n",
       " 46.440296,\n",
       " 46.917601999999995,\n",
       " 43.659028,\n",
       " 49.644480000000016,\n",
       " 44.449414,\n",
       " 45.341120000000004,\n",
       " 45.838308,\n",
       " 48.331036000000005,\n",
       " 44.1306,\n",
       " 45.551700000000004,\n",
       " 45.416168000000006,\n",
       " 45.334800000000016,\n",
       " 47.83054,\n",
       " 44.276116,\n",
       " 52.445902000000004,\n",
       " 46.71696599999999,\n",
       " 50.051606,\n",
       " 43.06578,\n",
       " 43.97285599999999,\n",
       " 45.37165999999999,\n",
       " 44.684900000000006,\n",
       " 47.17018,\n",
       " 47.48156,\n",
       " 48.498020000000004,\n",
       " 47.38232400000001,\n",
       " 41.35346,\n",
       " 51.68542,\n",
       " 49.78659600000001,\n",
       " 46.785314,\n",
       " 50.25077999999999,\n",
       " 50.61597999999999,\n",
       " 46.23953800000001,\n",
       " 51.042139999999996,\n",
       " 44.878000000000014,\n",
       " 49.746718,\n",
       " 51.133808,\n",
       " 46.23748,\n",
       " 48.103598000000005,\n",
       " 44.970178000000004,\n",
       " 47.15243399999999,\n",
       " 42.12053999999999,\n",
       " 49.80526,\n",
       " 45.899584000000004,\n",
       " 44.57688,\n",
       " 46.878224,\n",
       " 48.539252000000005,\n",
       " 48.468799999999995,\n",
       " 50.3795,\n",
       " 47.12144,\n",
       " 47.592334,\n",
       " 44.663399999999996,\n",
       " 47.18764999999999,\n",
       " 45.758078000000005,\n",
       " 44.33776000000001,\n",
       " 45.717031999999996,\n",
       " 47.52111999999999,\n",
       " 45.51993999999999,\n",
       " 48.597094,\n",
       " 44.340368000000005,\n",
       " 48.075596000000004,\n",
       " 45.186018000000004,\n",
       " 44.724920000000004,\n",
       " 50.95874,\n",
       " 48.867357999999996,\n",
       " 50.115714,\n",
       " 54.64153399999999,\n",
       " 48.239428,\n",
       " 45.142912,\n",
       " 47.67829999999999,\n",
       " 50.20808,\n",
       " 46.790208,\n",
       " 49.556624,\n",
       " 51.612878,\n",
       " 47.72751600000001,\n",
       " 48.875240000000005,\n",
       " 49.059360000000005,\n",
       " 46.50288,\n",
       " 48.300524,\n",
       " 44.046040000000005,\n",
       " 46.21401200000001,\n",
       " 49.97626,\n",
       " 44.20981,\n",
       " 48.050219999999996,\n",
       " 48.376706000000006,\n",
       " 55.637424,\n",
       " 43.08626,\n",
       " 47.596744,\n",
       " 45.192316,\n",
       " 49.875082,\n",
       " 49.069748,\n",
       " 48.67914,\n",
       " 46.403009999999995,\n",
       " 45.67184,\n",
       " 47.52438,\n",
       " 47.61008000000001,\n",
       " 41.9396,\n",
       " 50.36904,\n",
       " 44.99682,\n",
       " 49.942980000000006,\n",
       " 49.17897800000001,\n",
       " 47.80910000000001,\n",
       " 46.702073999999996,\n",
       " 50.766259999999996,\n",
       " 43.218920000000004,\n",
       " 47.40834400000001,\n",
       " 44.26582599999999,\n",
       " 48.984652,\n",
       " 44.663320000000006,\n",
       " 46.848380000000006,\n",
       " 45.35203799999999,\n",
       " 47.603550000000006,\n",
       " 46.5958,\n",
       " 46.35678000000001,\n",
       " 50.22142000000001,\n",
       " 48.261036000000004,\n",
       " 49.119518,\n",
       " 50.290870000000005,\n",
       " 49.63013999999999,\n",
       " 47.50974599999999,\n",
       " 47.848754,\n",
       " 46.880645999999984,\n",
       " 48.09972,\n",
       " 47.710242,\n",
       " 48.39156,\n",
       " 47.27240400000001,\n",
       " 45.288772,\n",
       " 46.40459999999999,\n",
       " 44.68230000000001,\n",
       " 45.005677999999996,\n",
       " 48.731382,\n",
       " 50.36648399999999,\n",
       " 48.130528000000005,\n",
       " 45.96844,\n",
       " 49.660675999999995,\n",
       " 48.16844799999999,\n",
       " 46.05688,\n",
       " 49.49710999999999,\n",
       " 44.528402,\n",
       " 46.625612000000004,\n",
       " 46.63259,\n",
       " 43.59940200000001,\n",
       " 51.160894000000006,\n",
       " 45.82103599999999,\n",
       " 44.41557400000001,\n",
       " 47.32284000000001,\n",
       " 48.43196199999999,\n",
       " 51.082480000000004,\n",
       " 48.642248,\n",
       " 47.083496,\n",
       " 50.63417799999999,\n",
       " 42.598941999999994,\n",
       " 43.95388,\n",
       " 48.532624,\n",
       " 47.22572,\n",
       " 48.879880000000014,\n",
       " 48.858248,\n",
       " 48.182348000000005,\n",
       " 48.55772000000001,\n",
       " 48.97783999999999,\n",
       " 44.276658,\n",
       " 47.436921999999996,\n",
       " 45.23332400000001,\n",
       " 44.56148,\n",
       " 47.135202,\n",
       " 46.385132000000006,\n",
       " 45.57522,\n",
       " 45.496500000000005,\n",
       " 45.626858,\n",
       " 51.30527000000001,\n",
       " 49.30002,\n",
       " 45.47560199999999,\n",
       " 46.823719999999994,\n",
       " 50.441728000000005,\n",
       " 47.00939399999999,\n",
       " 51.27908,\n",
       " 48.745294000000015,\n",
       " 45.731239999999985,\n",
       " 50.76773,\n",
       " 48.25848,\n",
       " 48.393018000000005,\n",
       " 49.004039999999996,\n",
       " 47.101376,\n",
       " 48.62328,\n",
       " 47.852794,\n",
       " 50.53678,\n",
       " 49.972480000000004,\n",
       " 46.760425999999995,\n",
       " 48.54684,\n",
       " 48.80196,\n",
       " 52.836327999999995,\n",
       " 53.464057999999994,\n",
       " 49.485614,\n",
       " 47.183676,\n",
       " 43.94910000000001,\n",
       " 50.21658,\n",
       " 43.14563999999999,\n",
       " 49.02326,\n",
       " 45.68023600000001,\n",
       " 47.421679999999995,\n",
       " 51.55024,\n",
       " 47.00316000000001,\n",
       " 44.79354,\n",
       " 51.47774,\n",
       " 49.04958,\n",
       " 45.04952,\n",
       " 48.166059999999995,\n",
       " 44.42943999999999,\n",
       " 49.612600000000015,\n",
       " 48.482434000000005,\n",
       " 50.67511800000001,\n",
       " 53.32544000000001,\n",
       " 46.049336,\n",
       " 47.03868000000001,\n",
       " 45.72563,\n",
       " 45.041540000000005,\n",
       " 47.65148,\n",
       " 49.6617,\n",
       " 47.355942,\n",
       " 46.003934,\n",
       " 51.101088,\n",
       " 44.99401999999999,\n",
       " 46.712098000000005,\n",
       " 49.027568,\n",
       " 47.62250999999999,\n",
       " 45.377016000000005,\n",
       " 46.414196000000004,\n",
       " 46.593520000000005,\n",
       " 49.7129,\n",
       " 45.45213999999999,\n",
       " 47.725998,\n",
       " 48.67258000000001,\n",
       " 45.638186000000005,\n",
       " 46.92302199999999,\n",
       " 44.51192000000001,\n",
       " 50.335088000000006,\n",
       " 50.32228599999999,\n",
       " 51.111952,\n",
       " 47.13788400000001,\n",
       " 48.039942,\n",
       " 48.06964,\n",
       " 46.20757,\n",
       " 52.476714,\n",
       " 45.934824000000006,\n",
       " 45.63028400000001,\n",
       " 49.951480000000004,\n",
       " 47.742176,\n",
       " 47.67033999999999,\n",
       " 48.526808,\n",
       " 48.46431,\n",
       " 44.076243999999996,\n",
       " 46.31132,\n",
       " 48.996399999999994,\n",
       " 48.24642599999999,\n",
       " 47.49659,\n",
       " 43.56964,\n",
       " 47.59783,\n",
       " 48.502449999999996,\n",
       " 50.332570000000004,\n",
       " 44.088697999999994,\n",
       " 49.43804,\n",
       " 42.787259999999996,\n",
       " 50.297752,\n",
       " 43.084806,\n",
       " 49.259421999999994,\n",
       " 49.530179999999994,\n",
       " 39.655820000000006,\n",
       " 47.28978,\n",
       " 45.259890000000006,\n",
       " 48.51068599999999,\n",
       " 47.60487400000001,\n",
       " 49.28646,\n",
       " 43.326280000000004,\n",
       " 47.552505999999994,\n",
       " 46.58501200000001,\n",
       " 49.80782,\n",
       " 45.45767999999999,\n",
       " 47.796620000000004,\n",
       " 45.74078,\n",
       " 42.985124,\n",
       " 48.37916000000001,\n",
       " 49.055002,\n",
       " 44.14072,\n",
       " 46.06552000000001,\n",
       " 49.338432000000005,\n",
       " 49.59054000000001,\n",
       " 48.27608399999999,\n",
       " 50.214296000000004,\n",
       " 46.10994199999998,\n",
       " 50.730464000000005,\n",
       " 46.755416000000004,\n",
       " 46.063104,\n",
       " 47.56002,\n",
       " 44.873847999999995,\n",
       " 49.21409999999999,\n",
       " 48.276976000000005,\n",
       " 49.78862,\n",
       " 46.071583999999994,\n",
       " 47.835159999999995,\n",
       " 48.80256,\n",
       " 47.45055200000001,\n",
       " 47.8769,\n",
       " 40.770551999999995,\n",
       " 45.77877399999999,\n",
       " 46.12201999999999,\n",
       " 46.1612,\n",
       " 45.402746,\n",
       " 50.20855800000001,\n",
       " 50.471737999999995,\n",
       " 48.62491199999999,\n",
       " 46.283441999999994,\n",
       " 49.53452,\n",
       " 47.74983999999999,\n",
       " 50.374660000000006,\n",
       " 48.662204,\n",
       " 52.328289999999996,\n",
       " 43.9982,\n",
       " 49.000428000000014,\n",
       " 51.669402,\n",
       " 46.628060000000005,\n",
       " 49.052699999999994,\n",
       " 45.135079999999995,\n",
       " 40.311944,\n",
       " 55.205420000000004,\n",
       " 49.26376000000001,\n",
       " 51.066846,\n",
       " 49.69962,\n",
       " 48.606128,\n",
       " 43.223574000000006,\n",
       " 53.0243,\n",
       " 46.376096,\n",
       " 47.761320000000005,\n",
       " 47.44111,\n",
       " 54.932744,\n",
       " 44.37283600000001,\n",
       " 48.1312,\n",
       " 47.003284,\n",
       " 51.521074,\n",
       " 49.94612799999999,\n",
       " 46.165922,\n",
       " 45.967023999999995,\n",
       " 49.94737999999998,\n",
       " 48.707716,\n",
       " 51.130829999999996,\n",
       " 52.362268,\n",
       " 50.146193999999994,\n",
       " 47.120639999999995,\n",
       " 48.03790000000001,\n",
       " 46.10106,\n",
       " 47.013744,\n",
       " 48.547596000000006,\n",
       " 51.86120400000001,\n",
       " 50.26568,\n",
       " 42.397777999999995,\n",
       " 49.14354,\n",
       " 44.465281999999995,\n",
       " 48.80492,\n",
       " 51.880081999999994,\n",
       " 44.40716,\n",
       " 44.356166,\n",
       " 47.930620000000005,\n",
       " 45.193540000000006,\n",
       " 48.67595200000001,\n",
       " 46.57719200000001,\n",
       " 47.590198,\n",
       " 46.92352000000001,\n",
       " 46.104366,\n",
       " 49.639399999999995,\n",
       " 48.94160999999999,\n",
       " 48.160812000000014,\n",
       " 49.3964,\n",
       " 46.561167999999995,\n",
       " 48.8301,\n",
       " 46.06992,\n",
       " 50.500486,\n",
       " 43.938100000000006,\n",
       " 46.792764000000005,\n",
       " 52.276591999999994,\n",
       " 45.51954,\n",
       " 43.622474000000004,\n",
       " 48.562537999999996,\n",
       " 46.390080000000005,\n",
       " 49.628782,\n",
       " 47.19083200000001,\n",
       " 46.535946,\n",
       " 46.12987999999999,\n",
       " 48.193352,\n",
       " 47.586999999999996,\n",
       " 44.54984,\n",
       " 49.083262000000005,\n",
       " 51.06208000000001,\n",
       " 47.220679999999994,\n",
       " 41.881596,\n",
       " 47.51586,\n",
       " 47.05758000000001,\n",
       " 44.16180200000001,\n",
       " 48.593779999999995,\n",
       " 47.650439999999996,\n",
       " 45.43818999999999,\n",
       " 48.75054,\n",
       " 49.531062,\n",
       " 48.911820000000006,\n",
       " 49.193020000000004,\n",
       " 50.767176,\n",
       " 48.127982,\n",
       " 45.985758000000004,\n",
       " 45.40689999999999,\n",
       " 52.71098400000001,\n",
       " 48.872952,\n",
       " 49.3056,\n",
       " 45.06555,\n",
       " 44.93396,\n",
       " 43.638596,\n",
       " 47.08496,\n",
       " 52.941666000000005,\n",
       " 47.34707600000001,\n",
       " 48.00451999999999,\n",
       " 44.418866,\n",
       " 50.339234,\n",
       " 49.21848000000001,\n",
       " 46.70894800000001,\n",
       " 48.10969400000001,\n",
       " 48.76308000000001,\n",
       " 50.22794,\n",
       " 46.961044,\n",
       " 48.183898,\n",
       " 47.122668000000004,\n",
       " 48.12335999999999,\n",
       " 49.21661000000001,\n",
       " 48.668639999999996,\n",
       " 47.97598,\n",
       " 48.342772,\n",
       " 46.59156,\n",
       " 46.823128000000004,\n",
       " 48.779588000000004,\n",
       " 45.917554,\n",
       " 53.280058,\n",
       " 48.148455999999996,\n",
       " 51.45493999999999,\n",
       " 42.87416000000001,\n",
       " 49.644248000000005,\n",
       " 48.55338200000001,\n",
       " 44.924097999999994,\n",
       " 46.719240000000006,\n",
       " 46.53907999999999,\n",
       " 49.008824000000004,\n",
       " 53.531866,\n",
       " 51.998236,\n",
       " 48.497580000000006,\n",
       " 48.001720000000006,\n",
       " 51.396636,\n",
       " 48.17287999999999,\n",
       " 45.56686,\n",
       " 44.94651999999999,\n",
       " 48.85274,\n",
       " 46.498760000000004]"
      ]
     },
     "execution_count": 54,
     "metadata": {},
     "output_type": "execute_result"
    }
   ],
   "source": [
    "sample_means"
   ]
  },
  {
   "cell_type": "code",
   "execution_count": 55,
   "metadata": {
    "scrolled": true
   },
   "outputs": [
    {
     "data": {
      "text/plain": [
       "1000"
      ]
     },
     "execution_count": 55,
     "metadata": {},
     "output_type": "execute_result"
    }
   ],
   "source": [
    "len(sample_means)"
   ]
  },
  {
   "cell_type": "code",
   "execution_count": 58,
   "metadata": {},
   "outputs": [
    {
     "data": {
      "image/png": "[encoded data removed]",
      "text/plain": [
       "<Figure size 432x288 with 1 Axes>"
      ]
     },
     "metadata": {
      "needs_background": "light"
     },
     "output_type": "display_data"
    }
   ],
   "source": [
    "sns.histplot(df['HourlyRate']);"
   ]
  },
  {
   "cell_type": "code",
   "execution_count": 56,
   "metadata": {
    "scrolled": true
   },
   "outputs": [
    {
     "data": {
      "image/png": "[encoded data removed]",
      "text/plain": [
       "<Figure size 576x432 with 1 Axes>"
      ]
     },
     "metadata": {
      "needs_background": "light"
     },
     "output_type": "display_data"
    }
   ],
   "source": [
    "# Plotting the distribution of our samples, plus our pop and sample means\n",
    "pop_mean = df['HourlyRate'].mean()\n",
    "samp_mean = np.mean(sample_means)\n",
    "\n",
    "plt.figure(figsize=(8,6))\n",
    "\n",
    "sns.histplot(sample_means)\n",
    "\n",
    "plt.vlines(pop_mean, ymin=0, ymax=25, color='r', linestyle=':',\n",
    "           label=f'Population Mean: {pop_mean:.2f}')\n",
    "plt.vlines(samp_mean, ymin=0, ymax=25, color='g', linestyle=':',\n",
    "           label=f'Mean of {k} Samples: {samp_mean:.2f}')\n",
    "\n",
    "plt.legend();"
   ]
  },
  {
   "cell_type": "markdown",
   "metadata": {},
   "source": [
    "Discuss:\n",
    "\n",
    "- CLT at play, distribution of sample means is mostly normal (more than original)\n"
   ]
  },
  {
   "cell_type": "markdown",
   "metadata": {
    "heading_collapsed": true
   },
   "source": [
    "-----\n",
    "\n",
    "\n",
    "# Level Up: Other Distributions"
   ]
  },
  {
   "cell_type": "markdown",
   "metadata": {
    "hidden": true
   },
   "source": [
    "The world is full of distributions to explore! See some other less-common ones below:"
   ]
  },
  {
   "cell_type": "markdown",
   "metadata": {
    "hidden": true
   },
   "source": [
    "![](images/distributions.png)"
   ]
  },
  {
   "cell_type": "markdown",
   "metadata": {
    "hidden": true
   },
   "source": [
    "Now that we know a few methods in visualizing distributions 📊👀, we can start looking at different types of distributions.\n",
    "\n",
    "We can tell a lot about a distribution shape such as taking a guess of the mechanism that it took to generate the data."
   ]
  },
  {
   "cell_type": "markdown",
   "metadata": {},
   "source": [
    "## Level Up: SKLearn's Standard Scaler\n",
    "\n",
    "Soon we'll be using a pre-built function to scale our data: https://scikit-learn.org/stable/modules/generated/sklearn.preprocessing.StandardScaler.html\n",
    "\n",
    "Let's go ahead and peek at our first `sklearn` class!"
   ]
  },
  {
   "cell_type": "code",
   "execution_count": 59,
   "metadata": {},
   "outputs": [],
   "source": [
    "# Importing StandardScaler from the preprocessing module\n",
    "from sklearn.preprocessing import StandardScaler\n",
    "\n",
    "# Need to instantiate our scaler\n",
    "scaler = StandardScaler()\n",
    "\n",
    "# Fitting our scaler (note how we need to make the column into a dataframe)\n",
    "scaler.fit(df[['HourlyRate']])\n",
    "\n",
    "# Grabbing the transformed values out as scaled_rate\n",
    "scaled_rate = scaler.transform(df[['HourlyRate']])"
   ]
  },
  {
   "cell_type": "code",
   "execution_count": 60,
   "metadata": {},
   "outputs": [
    {
     "data": {
      "text/plain": [
       "array([[ 0.35419662],\n",
       "       [-0.48066092],\n",
       "       [-1.09843158],\n",
       "       ...,\n",
       "       [-0.85981542],\n",
       "       [-1.02248108],\n",
       "       [-1.09843158]])"
      ]
     },
     "execution_count": 60,
     "metadata": {},
     "output_type": "execute_result"
    }
   ],
   "source": [
    "scaler.fit_transform(df[['HourlyRate']])"
   ]
  },
  {
   "cell_type": "code",
   "execution_count": 61,
   "metadata": {},
   "outputs": [],
   "source": [
    "scaler = StandardScaler()"
   ]
  },
  {
   "cell_type": "code",
   "execution_count": 62,
   "metadata": {
    "scrolled": true
   },
   "outputs": [
    {
     "data": {
      "text/plain": [
       "sklearn.preprocessing._data.StandardScaler"
      ]
     },
     "execution_count": 62,
     "metadata": {},
     "output_type": "execute_result"
    }
   ],
   "source": [
    "type(scaler)"
   ]
  },
  {
   "cell_type": "code",
   "execution_count": 63,
   "metadata": {},
   "outputs": [
    {
     "ename": "AttributeError",
     "evalue": "'StandardScaler' object has no attribute 'mean_'",
     "output_type": "error",
     "traceback": [
      "\u001b[0;31m---------------------------------------------------------------------------\u001b[0m",
      "\u001b[0;31mAttributeError\u001b[0m                            Traceback (most recent call last)",
      "\u001b[0;32m<ipython-input-63-7b749f858dad>\u001b[0m in \u001b[0;36m<module>\u001b[0;34m\u001b[0m\n\u001b[0;32m----> 1\u001b[0;31m \u001b[0mscaler\u001b[0m\u001b[0;34m.\u001b[0m\u001b[0mmean_\u001b[0m\u001b[0;34m\u001b[0m\u001b[0;34m\u001b[0m\u001b[0m\n\u001b[0m",
      "\u001b[0;31mAttributeError\u001b[0m: 'StandardScaler' object has no attribute 'mean_'"
     ]
    }
   ],
   "source": [
    "scaler.mean_"
   ]
  },
  {
   "cell_type": "code",
   "execution_count": 64,
   "metadata": {},
   "outputs": [
    {
     "data": {
      "text/plain": [
       "StandardScaler()"
      ]
     },
     "execution_count": 64,
     "metadata": {},
     "output_type": "execute_result"
    }
   ],
   "source": [
    "scaler.fit(df[['HourlyRate']])"
   ]
  },
  {
   "cell_type": "code",
   "execution_count": 65,
   "metadata": {},
   "outputs": [
    {
     "data": {
      "text/plain": [
       "47.81733114404976"
      ]
     },
     "execution_count": 65,
     "metadata": {},
     "output_type": "execute_result"
    }
   ],
   "source": [
    "df['HourlyRate'].mean()"
   ]
  },
  {
   "cell_type": "code",
   "execution_count": 66,
   "metadata": {},
   "outputs": [
    {
     "data": {
      "text/plain": [
       "array([47.81733114])"
      ]
     },
     "execution_count": 66,
     "metadata": {},
     "output_type": "execute_result"
    }
   ],
   "source": [
    "scaler.mean_"
   ]
  },
  {
   "cell_type": "code",
   "execution_count": 67,
   "metadata": {},
   "outputs": [
    {
     "data": {
      "text/plain": [
       "array([16.72141574])"
      ]
     },
     "execution_count": 67,
     "metadata": {},
     "output_type": "execute_result"
    }
   ],
   "source": [
    "scaler.scale_"
   ]
  },
  {
   "cell_type": "code",
   "execution_count": 68,
   "metadata": {},
   "outputs": [
    {
     "data": {
      "text/plain": [
       "array([[ 0.35419662],\n",
       "       [-0.48066092],\n",
       "       [-1.09843158],\n",
       "       ...,\n",
       "       [-0.85981542],\n",
       "       [-1.02248108],\n",
       "       [-1.09843158]])"
      ]
     },
     "execution_count": 68,
     "metadata": {},
     "output_type": "execute_result"
    }
   ],
   "source": [
    "scaler.transform(df[['HourlyRate']])"
   ]
  },
  {
   "cell_type": "code",
   "execution_count": 69,
   "metadata": {
    "scrolled": false
   },
   "outputs": [
    {
     "data": {
      "image/png": "[encoded data removed]",
      "text/plain": [
       "<Figure size 720x432 with 3 Axes>"
      ]
     },
     "metadata": {
      "needs_background": "light"
     },
     "output_type": "display_data"
    }
   ],
   "source": [
    "# Plot and compare results\n",
    "fig, (ax1, ax2, ax3) = plt.subplots(nrows=3, ncols=1, figsize=(10,6), sharex=True)\n",
    "\n",
    "sns.kdeplot(df['HourlyRate'], ax=ax1, label='Without Scaling')\n",
    "ax1.legend()\n",
    "\n",
    "sns.kdeplot(standardized_rate, ax=ax2, label='Manual Scaling')\n",
    "ax2.legend()\n",
    "\n",
    "sns.kdeplot(scaled_rate[:,0], ax=ax3, label='SKLearn Standard Scaling')\n",
    "ax3.legend()\n",
    "\n",
    "plt.show()"
   ]
  },
  {
   "cell_type": "code",
   "execution_count": 70,
   "metadata": {},
   "outputs": [],
   "source": [
    "heart_df = pd.read_csv('../../Phase1/Lectures/data/heart.csv')"
   ]
  },
  {
   "cell_type": "code",
   "execution_count": 71,
   "metadata": {},
   "outputs": [
    {
     "data": {
      "text/html": [
       "<div>\n",
       "<style scoped>\n",
       "    .dataframe tbody tr th:only-of-type {\n",
       "        vertical-align: middle;\n",
       "    }\n",
       "\n",
       "    .dataframe tbody tr th {\n",
       "        vertical-align: top;\n",
       "    }\n",
       "\n",
       "    .dataframe thead th {\n",
       "        text-align: right;\n",
       "    }\n",
       "</style>\n",
       "<table border=\"1\" class=\"dataframe\">\n",
       "  <thead>\n",
       "    <tr style=\"text-align: right;\">\n",
       "      <th></th>\n",
       "      <th>age</th>\n",
       "      <th>sex</th>\n",
       "      <th>cp</th>\n",
       "      <th>trestbps</th>\n",
       "      <th>chol</th>\n",
       "      <th>fbs</th>\n",
       "      <th>restecg</th>\n",
       "      <th>thalach</th>\n",
       "      <th>exang</th>\n",
       "      <th>oldpeak</th>\n",
       "      <th>slope</th>\n",
       "      <th>ca</th>\n",
       "      <th>thal</th>\n",
       "      <th>target</th>\n",
       "    </tr>\n",
       "  </thead>\n",
       "  <tbody>\n",
       "    <tr>\n",
       "      <th>0</th>\n",
       "      <td>63</td>\n",
       "      <td>1</td>\n",
       "      <td>3</td>\n",
       "      <td>145</td>\n",
       "      <td>233</td>\n",
       "      <td>1</td>\n",
       "      <td>0</td>\n",
       "      <td>150</td>\n",
       "      <td>0</td>\n",
       "      <td>2.3</td>\n",
       "      <td>0</td>\n",
       "      <td>0</td>\n",
       "      <td>1</td>\n",
       "      <td>1</td>\n",
       "    </tr>\n",
       "    <tr>\n",
       "      <th>1</th>\n",
       "      <td>37</td>\n",
       "      <td>1</td>\n",
       "      <td>2</td>\n",
       "      <td>130</td>\n",
       "      <td>250</td>\n",
       "      <td>0</td>\n",
       "      <td>1</td>\n",
       "      <td>187</td>\n",
       "      <td>0</td>\n",
       "      <td>3.5</td>\n",
       "      <td>0</td>\n",
       "      <td>0</td>\n",
       "      <td>2</td>\n",
       "      <td>1</td>\n",
       "    </tr>\n",
       "    <tr>\n",
       "      <th>2</th>\n",
       "      <td>41</td>\n",
       "      <td>0</td>\n",
       "      <td>1</td>\n",
       "      <td>130</td>\n",
       "      <td>204</td>\n",
       "      <td>0</td>\n",
       "      <td>0</td>\n",
       "      <td>172</td>\n",
       "      <td>0</td>\n",
       "      <td>1.4</td>\n",
       "      <td>2</td>\n",
       "      <td>0</td>\n",
       "      <td>2</td>\n",
       "      <td>1</td>\n",
       "    </tr>\n",
       "    <tr>\n",
       "      <th>3</th>\n",
       "      <td>56</td>\n",
       "      <td>1</td>\n",
       "      <td>1</td>\n",
       "      <td>120</td>\n",
       "      <td>236</td>\n",
       "      <td>0</td>\n",
       "      <td>1</td>\n",
       "      <td>178</td>\n",
       "      <td>0</td>\n",
       "      <td>0.8</td>\n",
       "      <td>2</td>\n",
       "      <td>0</td>\n",
       "      <td>2</td>\n",
       "      <td>1</td>\n",
       "    </tr>\n",
       "    <tr>\n",
       "      <th>4</th>\n",
       "      <td>57</td>\n",
       "      <td>0</td>\n",
       "      <td>0</td>\n",
       "      <td>120</td>\n",
       "      <td>354</td>\n",
       "      <td>0</td>\n",
       "      <td>1</td>\n",
       "      <td>163</td>\n",
       "      <td>1</td>\n",
       "      <td>0.6</td>\n",
       "      <td>2</td>\n",
       "      <td>0</td>\n",
       "      <td>2</td>\n",
       "      <td>1</td>\n",
       "    </tr>\n",
       "  </tbody>\n",
       "</table>\n",
       "</div>"
      ],
      "text/plain": [
       "   age  sex  cp  trestbps  chol  fbs  restecg  thalach  exang  oldpeak  slope  \\\n",
       "0   63    1   3       145   233    1        0      150      0      2.3      0   \n",
       "1   37    1   2       130   250    0        1      187      0      3.5      0   \n",
       "2   41    0   1       130   204    0        0      172      0      1.4      2   \n",
       "3   56    1   1       120   236    0        1      178      0      0.8      2   \n",
       "4   57    0   0       120   354    0        1      163      1      0.6      2   \n",
       "\n",
       "   ca  thal  target  \n",
       "0   0     1       1  \n",
       "1   0     2       1  \n",
       "2   0     2       1  \n",
       "3   0     2       1  \n",
       "4   0     2       1  "
      ]
     },
     "execution_count": 71,
     "metadata": {},
     "output_type": "execute_result"
    }
   ],
   "source": [
    "heart_df.head()"
   ]
  },
  {
   "cell_type": "code",
   "execution_count": 72,
   "metadata": {},
   "outputs": [],
   "source": [
    "scaler2 = StandardScaler()"
   ]
  },
  {
   "cell_type": "code",
   "execution_count": 73,
   "metadata": {},
   "outputs": [
    {
     "data": {
      "text/plain": [
       "StandardScaler()"
      ]
     },
     "execution_count": 73,
     "metadata": {},
     "output_type": "execute_result"
    }
   ],
   "source": [
    "scaler2.fit(heart_df.drop(columns='target'))"
   ]
  },
  {
   "cell_type": "code",
   "execution_count": 74,
   "metadata": {},
   "outputs": [
    {
     "data": {
      "text/plain": [
       "array([5.43663366e+01, 6.83168317e-01, 9.66996700e-01, 1.31623762e+02,\n",
       "       2.46264026e+02, 1.48514851e-01, 5.28052805e-01, 1.49646865e+02,\n",
       "       3.26732673e-01, 1.03960396e+00, 1.39933993e+00, 7.29372937e-01,\n",
       "       2.31353135e+00])"
      ]
     },
     "execution_count": 74,
     "metadata": {},
     "output_type": "execute_result"
    }
   ],
   "source": [
    "scaler2.mean_"
   ]
  },
  {
   "cell_type": "code",
   "execution_count": 76,
   "metadata": {},
   "outputs": [
    {
     "data": {
      "text/plain": [
       "array([[ 0.9521966 ,  0.68100522,  1.97312292, ..., -2.27457861,\n",
       "        -0.71442887, -2.14887271],\n",
       "       [-1.91531289,  0.68100522,  1.00257707, ..., -2.27457861,\n",
       "        -0.71442887, -0.51292188],\n",
       "       [-1.47415758, -1.46841752,  0.03203122, ...,  0.97635214,\n",
       "        -0.71442887, -0.51292188],\n",
       "       ...,\n",
       "       [ 1.50364073,  0.68100522, -0.93851463, ..., -0.64911323,\n",
       "         1.24459328,  1.12302895],\n",
       "       [ 0.29046364,  0.68100522, -0.93851463, ..., -0.64911323,\n",
       "         0.26508221,  1.12302895],\n",
       "       [ 0.29046364, -1.46841752,  0.03203122, ..., -0.64911323,\n",
       "         0.26508221, -0.51292188]])"
      ]
     },
     "execution_count": 76,
     "metadata": {},
     "output_type": "execute_result"
    }
   ],
   "source": [
    "scaler2.transform(heart_df.drop(columns='target'))"
   ]
  },
  {
   "cell_type": "code",
   "execution_count": 78,
   "metadata": {},
   "outputs": [
    {
     "data": {
      "text/html": [
       "<div>\n",
       "<style scoped>\n",
       "    .dataframe tbody tr th:only-of-type {\n",
       "        vertical-align: middle;\n",
       "    }\n",
       "\n",
       "    .dataframe tbody tr th {\n",
       "        vertical-align: top;\n",
       "    }\n",
       "\n",
       "    .dataframe thead th {\n",
       "        text-align: right;\n",
       "    }\n",
       "</style>\n",
       "<table border=\"1\" class=\"dataframe\">\n",
       "  <thead>\n",
       "    <tr style=\"text-align: right;\">\n",
       "      <th></th>\n",
       "      <th>age</th>\n",
       "      <th>sex</th>\n",
       "      <th>cp</th>\n",
       "      <th>trestbps</th>\n",
       "      <th>chol</th>\n",
       "      <th>fbs</th>\n",
       "      <th>restecg</th>\n",
       "      <th>thalach</th>\n",
       "      <th>exang</th>\n",
       "      <th>oldpeak</th>\n",
       "      <th>slope</th>\n",
       "      <th>ca</th>\n",
       "      <th>thal</th>\n",
       "    </tr>\n",
       "  </thead>\n",
       "  <tbody>\n",
       "    <tr>\n",
       "      <th>0</th>\n",
       "      <td>0.952197</td>\n",
       "      <td>0.681005</td>\n",
       "      <td>1.973123</td>\n",
       "      <td>0.763956</td>\n",
       "      <td>-0.256334</td>\n",
       "      <td>2.394438</td>\n",
       "      <td>-1.005832</td>\n",
       "      <td>0.015443</td>\n",
       "      <td>-0.696631</td>\n",
       "      <td>1.087338</td>\n",
       "      <td>-2.274579</td>\n",
       "      <td>-0.714429</td>\n",
       "      <td>-2.148873</td>\n",
       "    </tr>\n",
       "    <tr>\n",
       "      <th>1</th>\n",
       "      <td>-1.915313</td>\n",
       "      <td>0.681005</td>\n",
       "      <td>1.002577</td>\n",
       "      <td>-0.092738</td>\n",
       "      <td>0.072199</td>\n",
       "      <td>-0.417635</td>\n",
       "      <td>0.898962</td>\n",
       "      <td>1.633471</td>\n",
       "      <td>-0.696631</td>\n",
       "      <td>2.122573</td>\n",
       "      <td>-2.274579</td>\n",
       "      <td>-0.714429</td>\n",
       "      <td>-0.512922</td>\n",
       "    </tr>\n",
       "    <tr>\n",
       "      <th>2</th>\n",
       "      <td>-1.474158</td>\n",
       "      <td>-1.468418</td>\n",
       "      <td>0.032031</td>\n",
       "      <td>-0.092738</td>\n",
       "      <td>-0.816773</td>\n",
       "      <td>-0.417635</td>\n",
       "      <td>-1.005832</td>\n",
       "      <td>0.977514</td>\n",
       "      <td>-0.696631</td>\n",
       "      <td>0.310912</td>\n",
       "      <td>0.976352</td>\n",
       "      <td>-0.714429</td>\n",
       "      <td>-0.512922</td>\n",
       "    </tr>\n",
       "    <tr>\n",
       "      <th>3</th>\n",
       "      <td>0.180175</td>\n",
       "      <td>0.681005</td>\n",
       "      <td>0.032031</td>\n",
       "      <td>-0.663867</td>\n",
       "      <td>-0.198357</td>\n",
       "      <td>-0.417635</td>\n",
       "      <td>0.898962</td>\n",
       "      <td>1.239897</td>\n",
       "      <td>-0.696631</td>\n",
       "      <td>-0.206705</td>\n",
       "      <td>0.976352</td>\n",
       "      <td>-0.714429</td>\n",
       "      <td>-0.512922</td>\n",
       "    </tr>\n",
       "    <tr>\n",
       "      <th>4</th>\n",
       "      <td>0.290464</td>\n",
       "      <td>-1.468418</td>\n",
       "      <td>-0.938515</td>\n",
       "      <td>-0.663867</td>\n",
       "      <td>2.082050</td>\n",
       "      <td>-0.417635</td>\n",
       "      <td>0.898962</td>\n",
       "      <td>0.583939</td>\n",
       "      <td>1.435481</td>\n",
       "      <td>-0.379244</td>\n",
       "      <td>0.976352</td>\n",
       "      <td>-0.714429</td>\n",
       "      <td>-0.512922</td>\n",
       "    </tr>\n",
       "    <tr>\n",
       "      <th>...</th>\n",
       "      <td>...</td>\n",
       "      <td>...</td>\n",
       "      <td>...</td>\n",
       "      <td>...</td>\n",
       "      <td>...</td>\n",
       "      <td>...</td>\n",
       "      <td>...</td>\n",
       "      <td>...</td>\n",
       "      <td>...</td>\n",
       "      <td>...</td>\n",
       "      <td>...</td>\n",
       "      <td>...</td>\n",
       "      <td>...</td>\n",
       "    </tr>\n",
       "    <tr>\n",
       "      <th>298</th>\n",
       "      <td>0.290464</td>\n",
       "      <td>-1.468418</td>\n",
       "      <td>-0.938515</td>\n",
       "      <td>0.478391</td>\n",
       "      <td>-0.101730</td>\n",
       "      <td>-0.417635</td>\n",
       "      <td>0.898962</td>\n",
       "      <td>-1.165281</td>\n",
       "      <td>1.435481</td>\n",
       "      <td>-0.724323</td>\n",
       "      <td>-0.649113</td>\n",
       "      <td>-0.714429</td>\n",
       "      <td>1.123029</td>\n",
       "    </tr>\n",
       "    <tr>\n",
       "      <th>299</th>\n",
       "      <td>-1.033002</td>\n",
       "      <td>0.681005</td>\n",
       "      <td>1.973123</td>\n",
       "      <td>-1.234996</td>\n",
       "      <td>0.342756</td>\n",
       "      <td>-0.417635</td>\n",
       "      <td>0.898962</td>\n",
       "      <td>-0.771706</td>\n",
       "      <td>-0.696631</td>\n",
       "      <td>0.138373</td>\n",
       "      <td>-0.649113</td>\n",
       "      <td>-0.714429</td>\n",
       "      <td>1.123029</td>\n",
       "    </tr>\n",
       "    <tr>\n",
       "      <th>300</th>\n",
       "      <td>1.503641</td>\n",
       "      <td>0.681005</td>\n",
       "      <td>-0.938515</td>\n",
       "      <td>0.706843</td>\n",
       "      <td>-1.029353</td>\n",
       "      <td>2.394438</td>\n",
       "      <td>0.898962</td>\n",
       "      <td>-0.378132</td>\n",
       "      <td>-0.696631</td>\n",
       "      <td>2.036303</td>\n",
       "      <td>-0.649113</td>\n",
       "      <td>1.244593</td>\n",
       "      <td>1.123029</td>\n",
       "    </tr>\n",
       "    <tr>\n",
       "      <th>301</th>\n",
       "      <td>0.290464</td>\n",
       "      <td>0.681005</td>\n",
       "      <td>-0.938515</td>\n",
       "      <td>-0.092738</td>\n",
       "      <td>-2.227533</td>\n",
       "      <td>-0.417635</td>\n",
       "      <td>0.898962</td>\n",
       "      <td>-1.515125</td>\n",
       "      <td>1.435481</td>\n",
       "      <td>0.138373</td>\n",
       "      <td>-0.649113</td>\n",
       "      <td>0.265082</td>\n",
       "      <td>1.123029</td>\n",
       "    </tr>\n",
       "    <tr>\n",
       "      <th>302</th>\n",
       "      <td>0.290464</td>\n",
       "      <td>-1.468418</td>\n",
       "      <td>0.032031</td>\n",
       "      <td>-0.092738</td>\n",
       "      <td>-0.198357</td>\n",
       "      <td>-0.417635</td>\n",
       "      <td>-1.005832</td>\n",
       "      <td>1.064975</td>\n",
       "      <td>-0.696631</td>\n",
       "      <td>-0.896862</td>\n",
       "      <td>-0.649113</td>\n",
       "      <td>0.265082</td>\n",
       "      <td>-0.512922</td>\n",
       "    </tr>\n",
       "  </tbody>\n",
       "</table>\n",
       "<p>303 rows × 13 columns</p>\n",
       "</div>"
      ],
      "text/plain": [
       "          age       sex        cp  trestbps      chol       fbs   restecg  \\\n",
       "0    0.952197  0.681005  1.973123  0.763956 -0.256334  2.394438 -1.005832   \n",
       "1   -1.915313  0.681005  1.002577 -0.092738  0.072199 -0.417635  0.898962   \n",
       "2   -1.474158 -1.468418  0.032031 -0.092738 -0.816773 -0.417635 -1.005832   \n",
       "3    0.180175  0.681005  0.032031 -0.663867 -0.198357 -0.417635  0.898962   \n",
       "4    0.290464 -1.468418 -0.938515 -0.663867  2.082050 -0.417635  0.898962   \n",
       "..        ...       ...       ...       ...       ...       ...       ...   \n",
       "298  0.290464 -1.468418 -0.938515  0.478391 -0.101730 -0.417635  0.898962   \n",
       "299 -1.033002  0.681005  1.973123 -1.234996  0.342756 -0.417635  0.898962   \n",
       "300  1.503641  0.681005 -0.938515  0.706843 -1.029353  2.394438  0.898962   \n",
       "301  0.290464  0.681005 -0.938515 -0.092738 -2.227533 -0.417635  0.898962   \n",
       "302  0.290464 -1.468418  0.032031 -0.092738 -0.198357 -0.417635 -1.005832   \n",
       "\n",
       "      thalach     exang   oldpeak     slope        ca      thal  \n",
       "0    0.015443 -0.696631  1.087338 -2.274579 -0.714429 -2.148873  \n",
       "1    1.633471 -0.696631  2.122573 -2.274579 -0.714429 -0.512922  \n",
       "2    0.977514 -0.696631  0.310912  0.976352 -0.714429 -0.512922  \n",
       "3    1.239897 -0.696631 -0.206705  0.976352 -0.714429 -0.512922  \n",
       "4    0.583939  1.435481 -0.379244  0.976352 -0.714429 -0.512922  \n",
       "..        ...       ...       ...       ...       ...       ...  \n",
       "298 -1.165281  1.435481 -0.724323 -0.649113 -0.714429  1.123029  \n",
       "299 -0.771706 -0.696631  0.138373 -0.649113 -0.714429  1.123029  \n",
       "300 -0.378132 -0.696631  2.036303 -0.649113  1.244593  1.123029  \n",
       "301 -1.515125  1.435481  0.138373 -0.649113  0.265082  1.123029  \n",
       "302  1.064975 -0.696631 -0.896862 -0.649113  0.265082 -0.512922  \n",
       "\n",
       "[303 rows x 13 columns]"
      ]
     },
     "execution_count": 78,
     "metadata": {},
     "output_type": "execute_result"
    }
   ],
   "source": [
    "pd.DataFrame(scaler2.transform(heart_df.drop(columns='target')), columns=heart_df.drop(columns='target').columns)"
   ]
  }
 ],
 "metadata": {
  "kernelspec": {
   "display_name": "Python (learn-env)",
   "language": "python",
   "name": "learn-env"
  },
  "language_info": {
   "codemirror_mode": {
    "name": "ipython",
    "version": 3
   },
   "file_extension": ".py",
   "mimetype": "text/x-python",
   "name": "python",
   "nbconvert_exporter": "python",
   "pygments_lexer": "ipython3",
   "version": "3.8.5"
  },
  "toc": {
   "base_numbering": 1,
   "nav_menu": {},
   "number_sections": true,
   "sideBar": true,
   "skip_h1_title": false,
   "title_cell": "Table of Contents",
   "title_sidebar": "TOC",
   "toc_cell": true,
   "toc_position": {
    "height": "calc(100% - 180px)",
    "left": "10px",
    "top": "150px",
    "width": "380.25px"
   },
   "toc_section_display": true,
   "toc_window_display": true
  }
 },
 "nbformat": 4,
 "nbformat_minor": 4
}
